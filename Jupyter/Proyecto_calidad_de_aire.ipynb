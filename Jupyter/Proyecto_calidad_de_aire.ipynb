{
 "cells": [
  {
   "cell_type": "markdown",
   "id": "03f90887",
   "metadata": {},
   "source": [
    "## Proyecto calidad del aire en Colombia\n",
    "\n",
    "A lo largo de los años, la contaminación del aire ha sido un desafío ambiental y de salud pública en Colombia. Con datos recopilados entre 2011 y 2022, este estudio analiza su evolución, ciudades o municipios más afectados y la correlación con variables meteorológicas para comprender su impacto a nivel nacional. \n",
    "\n",
    "Antes de proceder con el análisis detallado, se llevó a cabo una etapa de exploración y limpieza de los datos en un cuaderno Jupyter separado, donde se identificaron valores duplicados, se unificaron formatos y se verificó la calidad de la información. Este preprocesamiento es fundamental para garantizar resultados precisos y confiables en el presente estudio."
   ]
  },
  {
   "cell_type": "markdown",
   "id": "856ff701",
   "metadata": {},
   "source": [
    "### Selección de departamentos para el estudio\n",
    "\n",
    "Para garantizar la robustez y representatividad del análisis, en este estudio se trabajará exclusivamente con los departamentos que cuentan con datos completos para el período 2011-2022. La razón principal de esta selección es evitar sesgos en los resultados, dado que ciertos departamentos presentan lagunas significativas en los registros de calidad del aire, lo que podría afectar la comparación de tendencias y la evaluación de correlaciones.\n",
    "\n",
    "La presencia de datos incompletos en algunos departamentos puede generar inconsistencias al interpretar la evolución de los contaminantes. Además, la falta de mediciones en años específicos dificulta la evaluación del impacto de regulaciones como la Ley 2254/2017, y limita el análisis de relaciones entre contaminantes y variables meteorológicas.\n",
    "\n",
    "Por lo tanto, en este estudio se han seleccionado únicamente aquellos departamentos cuya información es continua y fiable dentro del período de análisis, lo que garantiza una base de datos más homogénea y adecuada para responder a las preguntas de investigación."
   ]
  },
  {
   "cell_type": "code",
   "execution_count": 2,
   "id": "358c46b9",
   "metadata": {},
   "outputs": [],
   "source": [
    "# Importamos nuestros datos limpios previamente manipulados en Proyecto_calidad_del_aire_EDA.ipynb\n",
    "import pandas as pd\n",
    "df = pd.read_csv('Calidad_Aire.csv')\n",
    "\n",
    "# Filtramos los departamentos que tienen la data de los años 2011 a 2022 completos de acuerdo a nuestros hallazgos en SQL\n",
    "\n",
    "df_dep = df[df['Nombre del Departamento'].isin(['ANTIOQUIA', 'BOYACA', 'CALDAS', 'CESAR', 'CUNDINAMARCA', 'HUILA', 'LA GUAJIRA', 'MAGDALENA', \n",
    "'QUINDIO', 'RISARALDA', 'SANTANDER', 'TOLIMA', 'VALLE DEL CAUCA'])]"
   ]
  },
  {
   "cell_type": "markdown",
   "id": "d459f7a9",
   "metadata": {},
   "source": [
    "### ¿Cómo han evolucionado los contaminantes en Colombia entre 2011 y 2022?\n",
    "\n",
    "La calidad del aire en Colombia ha sido objeto de monitoreo y regulación para mitigar sus efectos en la salud y el medio ambiente. En este estudio, **nos centraremos en los contaminantes regulados por la Ley 2254/2017**: el material particulado *PM10* y *PM2.5*, que puede penetrar en el sistema respiratorio y causar efectos adversos; las partículas suspendidas totales (*PST*), que reflejan la contaminación general; el dióxido de nitrógeno (*NO2*), un gas clave en la formación de contaminantes secundarios; y el dióxido de azufre (*SO2*), un compuesto que contribuye a la lluvia ácida y afecta la calidad del aire. Analizar la evolución de estos contaminantes permitirá evaluar la efectividad de la regulación y comprender las tendencias de contaminación en el país."
   ]
  },
  {
   "cell_type": "code",
   "execution_count": 3,
   "id": "9dfa129e",
   "metadata": {},
   "outputs": [
    {
     "data": {
      "application/vnd.plotly.v1+json": {
       "config": {
        "plotlyServerURL": "https://plot.ly"
       },
       "data": [
        {
         "hovertemplate": "Contaminante=NO2<br>Año=%{x}<br>Concentración (µg/m³)=%{y}<extra></extra>",
         "legendgroup": "NO2",
         "line": {
          "color": "#636efa",
          "dash": "solid"
         },
         "marker": {
          "symbol": "circle"
         },
         "mode": "lines+markers",
         "name": "NO2",
         "orientation": "v",
         "showlegend": true,
         "type": "scatter",
         "x": {
          "bdata": "2wfcB90H3gffB+AH4QfiB+MH5AflB+YH",
          "dtype": "i2"
         },
         "xaxis": "x",
         "y": {
          "bdata": "12iN1mgNQkA8/nDA448/QNmJndiJXT1AzczMzMzoM0ByHMdxHEc1QLKxsbGxsTlAmpmZmZmZM0AzMzMzM1M1QJQ+6ZM+aTBAJb9Y8oulNkDIuc8uIDY2QDMzMzMzUzhA",
          "dtype": "f8"
         },
         "yaxis": "y"
        },
        {
         "hovertemplate": "Contaminante=PM10<br>Año=%{x}<br>Concentración (µg/m³)=%{y}<extra></extra>",
         "legendgroup": "PM10",
         "line": {
          "color": "#EF553B",
          "dash": "solid"
         },
         "marker": {
          "symbol": "circle"
         },
         "mode": "lines+markers",
         "name": "PM10",
         "orientation": "v",
         "showlegend": true,
         "type": "scatter",
         "x": {
          "bdata": "2wfcB90H3gffB+AH4QfiB+MH5AflB+YH",
          "dtype": "i2"
         },
         "xaxis": "x",
         "y": {
          "bdata": "gzqogzoIREDYXr/cSahEQAFK3ABK3ENAJKf5Wj07RUBnZmZmZkZFQHd3d3d350VA7+XzXj5vQkDST2E2cWxBQArrNHZokEFApee62MQ8QkC1YuGxA4VAQG3+GdNkgD5A",
          "dtype": "f8"
         },
         "yaxis": "y"
        },
        {
         "hovertemplate": "Contaminante=PM2.5<br>Año=%{x}<br>Concentración (µg/m³)=%{y}<extra></extra>",
         "legendgroup": "PM2.5",
         "line": {
          "color": "#00cc96",
          "dash": "solid"
         },
         "marker": {
          "symbol": "circle"
         },
         "mode": "lines+markers",
         "name": "PM2.5",
         "orientation": "v",
         "showlegend": true,
         "type": "scatter",
         "x": {
          "bdata": "2wfcB90H3gffB+AH4QfiB+MH5AflB+YH",
          "dtype": "i2"
         },
         "xaxis": "x",
         "y": {
          "bdata": "gk4b6LSBNEDTBjptoJM3QCx/yfKXrDdAMzMzMzNXNkBbsAVbsGU4QBYII+1YwTlAjGzn+6mRMkDyFV/xFV8wQGQhC1nIYjBANZHDx7IbMUCWv2T5SxYvQMzzVYwjMi5A",
          "dtype": "f8"
         },
         "yaxis": "y"
        },
        {
         "hovertemplate": "Contaminante=PST<br>Año=%{x}<br>Concentración (µg/m³)=%{y}<extra></extra>",
         "legendgroup": "PST",
         "line": {
          "color": "#ab63fa",
          "dash": "solid"
         },
         "marker": {
          "symbol": "circle"
         },
         "mode": "lines+markers",
         "name": "PST",
         "orientation": "v",
         "showlegend": true,
         "type": "scatter",
         "x": {
          "bdata": "2wfcB90H3gffB+AH4QfiB+MH",
          "dtype": "i2"
         },
         "xaxis": "x",
         "y": {
          "bdata": "iYiIiIjoUUC9jtTrSH1SQM3MzMzMQ1FAW2uttdYaUkCDOqiDOrBTQIXrUbgexVRAo60GzxHoUECPwvUoXM9QQGdmZmZmpjtA",
          "dtype": "f8"
         },
         "yaxis": "y"
        },
        {
         "hovertemplate": "Contaminante=SO2<br>Año=%{x}<br>Concentración (µg/m³)=%{y}<extra></extra>",
         "legendgroup": "SO2",
         "line": {
          "color": "#FFA15A",
          "dash": "solid"
         },
         "marker": {
          "symbol": "circle"
         },
         "mode": "lines+markers",
         "name": "SO2",
         "orientation": "v",
         "showlegend": true,
         "type": "scatter",
         "x": {
          "bdata": "2wfcB90H3gffB+AH4QfiB+MH5AflB+YH",
          "dtype": "i2"
         },
         "xaxis": "x",
         "y": {
          "bdata": "q6qqqqoKMkAzMzMzM5M0QN7d3d3d3SBAzczMzMzMH0B4d3d3d7cnQIKBgYGBQTVAr3G7mDD4J0BJkiRJkqQhQPYoXI/ClSZAL/Vk/HapI0A4l2d/c3kgQJTXUF5D+R9A",
          "dtype": "f8"
         },
         "yaxis": "y"
        }
       ],
       "layout": {
        "legend": {
         "title": {
          "text": "Contaminante"
         },
         "tracegroupgap": 0
        },
        "template": {
         "data": {
          "bar": [
           {
            "error_x": {
             "color": "#2a3f5f"
            },
            "error_y": {
             "color": "#2a3f5f"
            },
            "marker": {
             "line": {
              "color": "white",
              "width": 0.5
             },
             "pattern": {
              "fillmode": "overlay",
              "size": 10,
              "solidity": 0.2
             }
            },
            "type": "bar"
           }
          ],
          "barpolar": [
           {
            "marker": {
             "line": {
              "color": "white",
              "width": 0.5
             },
             "pattern": {
              "fillmode": "overlay",
              "size": 10,
              "solidity": 0.2
             }
            },
            "type": "barpolar"
           }
          ],
          "carpet": [
           {
            "aaxis": {
             "endlinecolor": "#2a3f5f",
             "gridcolor": "#C8D4E3",
             "linecolor": "#C8D4E3",
             "minorgridcolor": "#C8D4E3",
             "startlinecolor": "#2a3f5f"
            },
            "baxis": {
             "endlinecolor": "#2a3f5f",
             "gridcolor": "#C8D4E3",
             "linecolor": "#C8D4E3",
             "minorgridcolor": "#C8D4E3",
             "startlinecolor": "#2a3f5f"
            },
            "type": "carpet"
           }
          ],
          "choropleth": [
           {
            "colorbar": {
             "outlinewidth": 0,
             "ticks": ""
            },
            "type": "choropleth"
           }
          ],
          "contour": [
           {
            "colorbar": {
             "outlinewidth": 0,
             "ticks": ""
            },
            "colorscale": [
             [
              0,
              "#0d0887"
             ],
             [
              0.1111111111111111,
              "#46039f"
             ],
             [
              0.2222222222222222,
              "#7201a8"
             ],
             [
              0.3333333333333333,
              "#9c179e"
             ],
             [
              0.4444444444444444,
              "#bd3786"
             ],
             [
              0.5555555555555556,
              "#d8576b"
             ],
             [
              0.6666666666666666,
              "#ed7953"
             ],
             [
              0.7777777777777778,
              "#fb9f3a"
             ],
             [
              0.8888888888888888,
              "#fdca26"
             ],
             [
              1,
              "#f0f921"
             ]
            ],
            "type": "contour"
           }
          ],
          "contourcarpet": [
           {
            "colorbar": {
             "outlinewidth": 0,
             "ticks": ""
            },
            "type": "contourcarpet"
           }
          ],
          "heatmap": [
           {
            "colorbar": {
             "outlinewidth": 0,
             "ticks": ""
            },
            "colorscale": [
             [
              0,
              "#0d0887"
             ],
             [
              0.1111111111111111,
              "#46039f"
             ],
             [
              0.2222222222222222,
              "#7201a8"
             ],
             [
              0.3333333333333333,
              "#9c179e"
             ],
             [
              0.4444444444444444,
              "#bd3786"
             ],
             [
              0.5555555555555556,
              "#d8576b"
             ],
             [
              0.6666666666666666,
              "#ed7953"
             ],
             [
              0.7777777777777778,
              "#fb9f3a"
             ],
             [
              0.8888888888888888,
              "#fdca26"
             ],
             [
              1,
              "#f0f921"
             ]
            ],
            "type": "heatmap"
           }
          ],
          "histogram": [
           {
            "marker": {
             "pattern": {
              "fillmode": "overlay",
              "size": 10,
              "solidity": 0.2
             }
            },
            "type": "histogram"
           }
          ],
          "histogram2d": [
           {
            "colorbar": {
             "outlinewidth": 0,
             "ticks": ""
            },
            "colorscale": [
             [
              0,
              "#0d0887"
             ],
             [
              0.1111111111111111,
              "#46039f"
             ],
             [
              0.2222222222222222,
              "#7201a8"
             ],
             [
              0.3333333333333333,
              "#9c179e"
             ],
             [
              0.4444444444444444,
              "#bd3786"
             ],
             [
              0.5555555555555556,
              "#d8576b"
             ],
             [
              0.6666666666666666,
              "#ed7953"
             ],
             [
              0.7777777777777778,
              "#fb9f3a"
             ],
             [
              0.8888888888888888,
              "#fdca26"
             ],
             [
              1,
              "#f0f921"
             ]
            ],
            "type": "histogram2d"
           }
          ],
          "histogram2dcontour": [
           {
            "colorbar": {
             "outlinewidth": 0,
             "ticks": ""
            },
            "colorscale": [
             [
              0,
              "#0d0887"
             ],
             [
              0.1111111111111111,
              "#46039f"
             ],
             [
              0.2222222222222222,
              "#7201a8"
             ],
             [
              0.3333333333333333,
              "#9c179e"
             ],
             [
              0.4444444444444444,
              "#bd3786"
             ],
             [
              0.5555555555555556,
              "#d8576b"
             ],
             [
              0.6666666666666666,
              "#ed7953"
             ],
             [
              0.7777777777777778,
              "#fb9f3a"
             ],
             [
              0.8888888888888888,
              "#fdca26"
             ],
             [
              1,
              "#f0f921"
             ]
            ],
            "type": "histogram2dcontour"
           }
          ],
          "mesh3d": [
           {
            "colorbar": {
             "outlinewidth": 0,
             "ticks": ""
            },
            "type": "mesh3d"
           }
          ],
          "parcoords": [
           {
            "line": {
             "colorbar": {
              "outlinewidth": 0,
              "ticks": ""
             }
            },
            "type": "parcoords"
           }
          ],
          "pie": [
           {
            "automargin": true,
            "type": "pie"
           }
          ],
          "scatter": [
           {
            "fillpattern": {
             "fillmode": "overlay",
             "size": 10,
             "solidity": 0.2
            },
            "type": "scatter"
           }
          ],
          "scatter3d": [
           {
            "line": {
             "colorbar": {
              "outlinewidth": 0,
              "ticks": ""
             }
            },
            "marker": {
             "colorbar": {
              "outlinewidth": 0,
              "ticks": ""
             }
            },
            "type": "scatter3d"
           }
          ],
          "scattercarpet": [
           {
            "marker": {
             "colorbar": {
              "outlinewidth": 0,
              "ticks": ""
             }
            },
            "type": "scattercarpet"
           }
          ],
          "scattergeo": [
           {
            "marker": {
             "colorbar": {
              "outlinewidth": 0,
              "ticks": ""
             }
            },
            "type": "scattergeo"
           }
          ],
          "scattergl": [
           {
            "marker": {
             "colorbar": {
              "outlinewidth": 0,
              "ticks": ""
             }
            },
            "type": "scattergl"
           }
          ],
          "scattermap": [
           {
            "marker": {
             "colorbar": {
              "outlinewidth": 0,
              "ticks": ""
             }
            },
            "type": "scattermap"
           }
          ],
          "scattermapbox": [
           {
            "marker": {
             "colorbar": {
              "outlinewidth": 0,
              "ticks": ""
             }
            },
            "type": "scattermapbox"
           }
          ],
          "scatterpolar": [
           {
            "marker": {
             "colorbar": {
              "outlinewidth": 0,
              "ticks": ""
             }
            },
            "type": "scatterpolar"
           }
          ],
          "scatterpolargl": [
           {
            "marker": {
             "colorbar": {
              "outlinewidth": 0,
              "ticks": ""
             }
            },
            "type": "scatterpolargl"
           }
          ],
          "scatterternary": [
           {
            "marker": {
             "colorbar": {
              "outlinewidth": 0,
              "ticks": ""
             }
            },
            "type": "scatterternary"
           }
          ],
          "surface": [
           {
            "colorbar": {
             "outlinewidth": 0,
             "ticks": ""
            },
            "colorscale": [
             [
              0,
              "#0d0887"
             ],
             [
              0.1111111111111111,
              "#46039f"
             ],
             [
              0.2222222222222222,
              "#7201a8"
             ],
             [
              0.3333333333333333,
              "#9c179e"
             ],
             [
              0.4444444444444444,
              "#bd3786"
             ],
             [
              0.5555555555555556,
              "#d8576b"
             ],
             [
              0.6666666666666666,
              "#ed7953"
             ],
             [
              0.7777777777777778,
              "#fb9f3a"
             ],
             [
              0.8888888888888888,
              "#fdca26"
             ],
             [
              1,
              "#f0f921"
             ]
            ],
            "type": "surface"
           }
          ],
          "table": [
           {
            "cells": {
             "fill": {
              "color": "#EBF0F8"
             },
             "line": {
              "color": "white"
             }
            },
            "header": {
             "fill": {
              "color": "#C8D4E3"
             },
             "line": {
              "color": "white"
             }
            },
            "type": "table"
           }
          ]
         },
         "layout": {
          "annotationdefaults": {
           "arrowcolor": "#2a3f5f",
           "arrowhead": 0,
           "arrowwidth": 1
          },
          "autotypenumbers": "strict",
          "coloraxis": {
           "colorbar": {
            "outlinewidth": 0,
            "ticks": ""
           }
          },
          "colorscale": {
           "diverging": [
            [
             0,
             "#8e0152"
            ],
            [
             0.1,
             "#c51b7d"
            ],
            [
             0.2,
             "#de77ae"
            ],
            [
             0.3,
             "#f1b6da"
            ],
            [
             0.4,
             "#fde0ef"
            ],
            [
             0.5,
             "#f7f7f7"
            ],
            [
             0.6,
             "#e6f5d0"
            ],
            [
             0.7,
             "#b8e186"
            ],
            [
             0.8,
             "#7fbc41"
            ],
            [
             0.9,
             "#4d9221"
            ],
            [
             1,
             "#276419"
            ]
           ],
           "sequential": [
            [
             0,
             "#0d0887"
            ],
            [
             0.1111111111111111,
             "#46039f"
            ],
            [
             0.2222222222222222,
             "#7201a8"
            ],
            [
             0.3333333333333333,
             "#9c179e"
            ],
            [
             0.4444444444444444,
             "#bd3786"
            ],
            [
             0.5555555555555556,
             "#d8576b"
            ],
            [
             0.6666666666666666,
             "#ed7953"
            ],
            [
             0.7777777777777778,
             "#fb9f3a"
            ],
            [
             0.8888888888888888,
             "#fdca26"
            ],
            [
             1,
             "#f0f921"
            ]
           ],
           "sequentialminus": [
            [
             0,
             "#0d0887"
            ],
            [
             0.1111111111111111,
             "#46039f"
            ],
            [
             0.2222222222222222,
             "#7201a8"
            ],
            [
             0.3333333333333333,
             "#9c179e"
            ],
            [
             0.4444444444444444,
             "#bd3786"
            ],
            [
             0.5555555555555556,
             "#d8576b"
            ],
            [
             0.6666666666666666,
             "#ed7953"
            ],
            [
             0.7777777777777778,
             "#fb9f3a"
            ],
            [
             0.8888888888888888,
             "#fdca26"
            ],
            [
             1,
             "#f0f921"
            ]
           ]
          },
          "colorway": [
           "#636efa",
           "#EF553B",
           "#00cc96",
           "#ab63fa",
           "#FFA15A",
           "#19d3f3",
           "#FF6692",
           "#B6E880",
           "#FF97FF",
           "#FECB52"
          ],
          "font": {
           "color": "#2a3f5f"
          },
          "geo": {
           "bgcolor": "white",
           "lakecolor": "white",
           "landcolor": "white",
           "showlakes": true,
           "showland": true,
           "subunitcolor": "#C8D4E3"
          },
          "hoverlabel": {
           "align": "left"
          },
          "hovermode": "closest",
          "mapbox": {
           "style": "light"
          },
          "paper_bgcolor": "white",
          "plot_bgcolor": "white",
          "polar": {
           "angularaxis": {
            "gridcolor": "#EBF0F8",
            "linecolor": "#EBF0F8",
            "ticks": ""
           },
           "bgcolor": "white",
           "radialaxis": {
            "gridcolor": "#EBF0F8",
            "linecolor": "#EBF0F8",
            "ticks": ""
           }
          },
          "scene": {
           "xaxis": {
            "backgroundcolor": "white",
            "gridcolor": "#DFE8F3",
            "gridwidth": 2,
            "linecolor": "#EBF0F8",
            "showbackground": true,
            "ticks": "",
            "zerolinecolor": "#EBF0F8"
           },
           "yaxis": {
            "backgroundcolor": "white",
            "gridcolor": "#DFE8F3",
            "gridwidth": 2,
            "linecolor": "#EBF0F8",
            "showbackground": true,
            "ticks": "",
            "zerolinecolor": "#EBF0F8"
           },
           "zaxis": {
            "backgroundcolor": "white",
            "gridcolor": "#DFE8F3",
            "gridwidth": 2,
            "linecolor": "#EBF0F8",
            "showbackground": true,
            "ticks": "",
            "zerolinecolor": "#EBF0F8"
           }
          },
          "shapedefaults": {
           "line": {
            "color": "#2a3f5f"
           }
          },
          "ternary": {
           "aaxis": {
            "gridcolor": "#DFE8F3",
            "linecolor": "#A2B1C6",
            "ticks": ""
           },
           "baxis": {
            "gridcolor": "#DFE8F3",
            "linecolor": "#A2B1C6",
            "ticks": ""
           },
           "bgcolor": "white",
           "caxis": {
            "gridcolor": "#DFE8F3",
            "linecolor": "#A2B1C6",
            "ticks": ""
           }
          },
          "title": {
           "x": 0.05
          },
          "xaxis": {
           "automargin": true,
           "gridcolor": "#EBF0F8",
           "linecolor": "#EBF0F8",
           "ticks": "",
           "title": {
            "standoff": 15
           },
           "zerolinecolor": "#EBF0F8",
           "zerolinewidth": 2
          },
          "yaxis": {
           "automargin": true,
           "gridcolor": "#EBF0F8",
           "linecolor": "#EBF0F8",
           "ticks": "",
           "title": {
            "standoff": 15
           },
           "zerolinecolor": "#EBF0F8",
           "zerolinewidth": 2
          }
         }
        },
        "title": {
         "text": "Evolución del Promedio Anual de Contaminantes en Colombia (2011–2022)"
        },
        "xaxis": {
         "anchor": "y",
         "domain": [
          0,
          1
         ],
         "title": {
          "text": "Año"
         }
        },
        "yaxis": {
         "anchor": "x",
         "domain": [
          0,
          1
         ],
         "title": {
          "text": "Concentración (µg/m³)"
         }
        }
       }
      }
     },
     "metadata": {},
     "output_type": "display_data"
    }
   ],
   "source": [
    "import plotly.express as px\n",
    "import pandas as pd\n",
    "\n",
    "# Filtrar los contaminantes regulados anualmente\n",
    "contaminantes = ['PM10', 'PM2.5', 'PST', 'NO2', 'SO2']\n",
    "df_contaminantes = df_dep[df_dep[\"Variable\"].isin(contaminantes)]\n",
    "\n",
    "# Agrupar por año y contaminante para obtener el promedio nacional\n",
    "df_agrupado = df_contaminantes.groupby(['Year', 'Variable'])['Promedio'].mean().reset_index()\n",
    "\n",
    "# Crear gráfico interactivo\n",
    "fig = px.line(df_agrupado,\n",
    "              x='Year',\n",
    "              y='Promedio',\n",
    "              color='Variable',\n",
    "              markers=True,\n",
    "              title='Evolución del Promedio Anual de Contaminantes en Colombia (2011–2022)',\n",
    "              labels={'Year': 'Año', 'Promedio': 'Concentración (µg/m³)', 'Variable': 'Contaminante'},\n",
    "              template='plotly_white')\n",
    "\n",
    "fig.update_layout(legend_title_text='Contaminante')\n",
    "fig.show()"
   ]
  },
  {
   "cell_type": "markdown",
   "id": "df460356",
   "metadata": {},
   "source": [
    "La gráfica muestra una **caída drástica del contaminante PST desde 2018 y su desaparición después de 2019**, lo cual podría indicar un cambio en la metodología de monitoreo, una reducción efectiva de emisiones, o una modificación en la normativa que afecta su reporte.  \n",
    "\n",
    "Por otro lado, **los demás contaminantes PM10, PM2.5, NO2 y SO2 mantienen tendencias relativamente estables a lo largo del período 2011-2022**, sin picos extremos. Esto sugiere que, aunque la contaminación persiste, no ha habido incrementos alarmantes ni reducciones abruptas en su concentración.  \n",
    "\n",
    "Algunas hipótesis a considerar:\n",
    "- ¿Hubo cambios en la regulación o monitoreo del PST en 2018-2019?\n",
    "- ¿Las fuentes de emisión de PST disminuyeron significativamente por medidas ambientales o tecnológicas?\n",
    "- ¿Existe una relación entre las tendencias de material particulado (PM10/PM2.5) y NO2/SO2 en ciertos periodos?"
   ]
  },
  {
   "cell_type": "markdown",
   "id": "e49fe80f",
   "metadata": {},
   "source": [
    "### Evaluar los niveles de contaminación por la ley 2254/2017\n",
    "\n",
    "La Ley 2254 de 2017 establece regulaciones para la calidad del aire en Colombia, fijando límites permisibles para ciertos contaminantes con el objetivo de proteger la salud pública y el medio ambiente. En este estudio, **evaluaremos si los niveles de PM10, PM2.5, PST, NO2 y SO2 han cumplido con estos estándares a lo largo del período 2011-2022**."
   ]
  },
  {
   "cell_type": "code",
   "execution_count": 4,
   "id": "e4bbd2f9",
   "metadata": {},
   "outputs": [
    {
     "data": {
      "image/png": "[encoded data removed]",
      "text/plain": [
       "<Figure size 1200x1000 with 5 Axes>"
      ]
     },
     "metadata": {},
     "output_type": "display_data"
    }
   ],
   "source": [
    "# Evaluamos los niveles de contaminación por la ley 2254/2017\n",
    "\n",
    "import seaborn as sns\n",
    "import matplotlib.pyplot as plt\n",
    "\n",
    "sns.set(style=\"whitegrid\") # Configurar estilo de gráficos\n",
    "\n",
    "# Crear la figura y los subplots\n",
    "fig, axes = plt.subplots(3, 2, figsize=(12, 10))  # 3 filas, 2 columnas\n",
    "fig.delaxes(axes[2, 1])  # Elimina el último subplot vacío\n",
    "\n",
    "# Gráfico 1: Evolución de PM10 en Colombia\n",
    "df_pm10 = df_contaminantes[df_contaminantes[\"Variable\"] == \"PM10\"].groupby(\"Year\")[\"Promedio\"].mean().reset_index()\n",
    "sns.lineplot(x=\"Year\", y=\"Promedio\", data=df_pm10, marker=\"o\", color=\"blue\", ax=axes[0, 0])\n",
    "axes[0, 0].axhline(y=50, color=\"red\", linestyle=\"--\", linewidth=2, label=\"Límite permitido (50 µg/m³)\")\n",
    "axes[0, 0].set_title(\"Evolución del Promedio Anual de PM10 en Colombia\")\n",
    "axes[0, 0].set_xlabel(\"Año\")\n",
    "axes[0, 0].set_ylabel(\"PM10 (µg/m³)\")\n",
    "axes[0, 0].legend()\n",
    "\n",
    "# Gráfico 2: Evolución de PM2.5 en Colombia\n",
    "df_pm25 = df_contaminantes[df_contaminantes[\"Variable\"] == \"PM2.5\"].groupby(\"Year\")[\"Promedio\"].mean().reset_index()\n",
    "sns.lineplot(x=\"Year\", y=\"Promedio\", data=df_pm25, marker=\"o\", color=\"green\", ax=axes[0, 1])\n",
    "axes[0, 1].axhline(y=25, color=\"red\", linestyle=\"--\", linewidth=2, label=\"Límite permitido (25 µg/m³)\")\n",
    "axes[0, 1].set_title(\"Evolución del Promedio Anual de PM2.5 en Colombia\")\n",
    "axes[0, 1].set_xlabel(\"Año\")\n",
    "axes[0, 1].set_ylabel(\"PM2.5 (µg/m³)\")\n",
    "axes[0, 1].legend()\n",
    "\n",
    "# Gráfico 3: Evolución de PST en Colombia\n",
    "df_pst = df_contaminantes[df_contaminantes[\"Variable\"] == \"PST\"].groupby(\"Year\")[\"Promedio\"].mean().reset_index()\n",
    "sns.lineplot(x=\"Year\", y=\"Promedio\", data=df_pst, marker=\"o\", color=\"red\", ax=axes[1, 0])\n",
    "axes[1, 0].axhline(y=100, color=\"red\", linestyle=\"--\", linewidth=2, label=\"Límite permitido (100 µg/m³)\")\n",
    "axes[1, 0].set_title(\"Evolución del Promedio Anual de PST en Colombia\")\n",
    "axes[1, 0].set_xlabel(\"Año\")\n",
    "axes[1, 0].set_ylabel(\"PST (µg/m³)\")\n",
    "axes[1, 0].legend()\n",
    "\n",
    "# Gráfico 4: Evolución de NO2 en Colombia\n",
    "df_no2 = df_contaminantes[df_contaminantes[\"Variable\"] == \"NO2\"].groupby(\"Year\")[\"Promedio\"].mean().reset_index()\n",
    "sns.lineplot(x=\"Year\", y=\"Promedio\", data=df_no2, marker=\"o\", color=\"purple\", ax=axes[1, 1])\n",
    "axes[1, 1].axhline(y=60, color=\"red\", linestyle=\"--\", linewidth=2, label=\"Límite permitido (60 µg/m³)\")\n",
    "axes[1, 1].set_title(\"Evolución del Promedio Anual de NO2 en Colombia\")\n",
    "axes[1, 1].set_xlabel(\"Año\")\n",
    "axes[1, 1].set_ylabel(\"NO2 (µg/m³)\")\n",
    "axes[1, 1].legend()\n",
    "\n",
    "# Gráfico 4: Evolución de SO2 en Colombia\n",
    "df_so2 = df_contaminantes[df_contaminantes[\"Variable\"] == \"SO2\"].groupby(\"Year\")[\"Promedio\"].mean().reset_index()\n",
    "sns.lineplot(x=\"Year\", y=\"Promedio\", data=df_so2, marker=\"o\", color=\"orange\", ax=axes[2, 0])\n",
    "axes[2, 0].axhline(y=80, color=\"red\", linestyle=\"--\", linewidth=2, label=\"Límite permitido (80 µg/m³)\")\n",
    "axes[2, 0].set_title(\"Evolución del Promedio Anual de SO2 en Colombia\")\n",
    "axes[2, 0].set_xlabel(\"Año\")\n",
    "axes[2, 0].set_ylabel(\"SO2 (µg/m³)\")\n",
    "axes[2, 0].legend()\n",
    "\n",
    "# Ajustar el diseño\n",
    "plt.tight_layout()\n",
    "plt.show()"
   ]
  },
  {
   "cell_type": "markdown",
   "id": "3ee28bee",
   "metadata": {},
   "source": [
    "Los resultados muestran que el nivel de PM2.5 alcanzó un valor crítico en 2016, lo cual evidencia la presencia de un episodio de concentración elevada. Este pico podría estar asociado a condiciones atmosféricas atípicas, cambios en las fuentes emisoras o eventos puntuales que impulsaron un sobrepaso en la concentración de este contaminante.  \n",
    "\n",
    "Por otro lado, aunque la mayoría de los contaminantes se mantienen por debajo de los límites establecidos por la regulación 2254/2017, es relevante observar que en 2016 se registraron los valores máximos para PM10, PST y SO2, mientras que el NO2 mostró su pico en 2011 y se mantuvo estable posteriormente. La concentración simultánea de PM10, PST y SO2 en 2016 sugiere que pudieron existir factores ambientales o eventos específicos —como cambios en las condiciones climatológicas, variaciones en la actividad industrial o en la movilidad— que afectaron de forma conjunta la emisión y dispersión de estos contaminantes. La estabilidad observada en los niveles de NO2 es alentadora, ya que indica una mejora sostenida o una regulación efectiva de las fuentes emisoras relacionadas, lo cual es positivo desde el punto de vista de la salud pública y la política ambiental.  \n",
    "\n",
    "En resumen, la observación de un pico excepcional en 2016, especialmente para PM2.5, PM10, PST y SO2, subraya la necesidad e importancia de indagar y analizar las causas de estos picos. Entender los factores detrás de esos episodios críticos puede contribuir a diseñar estrategias más efectivas de mitigación y a refinar las políticas de regulación ambiental en Colombia."
   ]
  },
  {
   "cell_type": "code",
   "execution_count": 5,
   "id": "31622db6",
   "metadata": {},
   "outputs": [
    {
     "data": {
      "text/html": [
       "<div>\n",
       "<style scoped>\n",
       "    .dataframe tbody tr th:only-of-type {\n",
       "        vertical-align: middle;\n",
       "    }\n",
       "\n",
       "    .dataframe tbody tr th {\n",
       "        vertical-align: top;\n",
       "    }\n",
       "\n",
       "    .dataframe thead th {\n",
       "        text-align: right;\n",
       "    }\n",
       "</style>\n",
       "<table border=\"1\" class=\"dataframe\">\n",
       "  <thead>\n",
       "    <tr style=\"text-align: right;\">\n",
       "      <th></th>\n",
       "      <th>Variable</th>\n",
       "      <th>Promedio</th>\n",
       "      <th>Mediana</th>\n",
       "    </tr>\n",
       "  </thead>\n",
       "  <tbody>\n",
       "    <tr>\n",
       "      <th>0</th>\n",
       "      <td>NO2</td>\n",
       "      <td>25.694118</td>\n",
       "      <td>22.1</td>\n",
       "    </tr>\n",
       "    <tr>\n",
       "      <th>1</th>\n",
       "      <td>PM10</td>\n",
       "      <td>43.808333</td>\n",
       "      <td>37.7</td>\n",
       "    </tr>\n",
       "    <tr>\n",
       "      <th>2</th>\n",
       "      <td>PM2.5</td>\n",
       "      <td>25.755263</td>\n",
       "      <td>23.0</td>\n",
       "    </tr>\n",
       "    <tr>\n",
       "      <th>3</th>\n",
       "      <td>PST</td>\n",
       "      <td>83.080000</td>\n",
       "      <td>77.8</td>\n",
       "    </tr>\n",
       "    <tr>\n",
       "      <th>4</th>\n",
       "      <td>SO2</td>\n",
       "      <td>21.255882</td>\n",
       "      <td>11.0</td>\n",
       "    </tr>\n",
       "  </tbody>\n",
       "</table>\n",
       "</div>"
      ],
      "text/plain": [
       "  Variable   Promedio  Mediana\n",
       "0      NO2  25.694118     22.1\n",
       "1     PM10  43.808333     37.7\n",
       "2    PM2.5  25.755263     23.0\n",
       "3      PST  83.080000     77.8\n",
       "4      SO2  21.255882     11.0"
      ]
     },
     "execution_count": 5,
     "metadata": {},
     "output_type": "execute_result"
    }
   ],
   "source": [
    "# Hallamos el promedio y mediana de cada contaminante en 2016\n",
    "prom_2016 = df_contaminantes[df_contaminantes['Year']==2016].groupby('Variable')['Promedio'].mean().reset_index()\n",
    "med_2016 = df_contaminantes[df_contaminantes['Year']==2016].groupby('Variable')['Mediana'].median().reset_index()\n",
    "\n",
    "# Unimos promedios y medianas del 2016 por la columna 'Variable'\n",
    "df_combinado = pd.merge(prom_2016, med_2016, on='Variable', how='inner')\n",
    "\n",
    "df_combinado"
   ]
  },
  {
   "cell_type": "markdown",
   "id": "6ae1ad79",
   "metadata": {},
   "source": [
    "Dado que los promedios son mayores que la mediana, se deduce que la distribución de los datos está sesgada hacia la derecha, lo que implica la presencia de valores extremos o picos altos que \"tiran\" la media hacia arriba en ciertos momentos o ubicaciones. Esto podría señalar situaciones de emergencia ambiental o episodios de contaminación aguda. No obstante, el hecho de que la mediana no supere el límite establecido por la regulación 2254 de 2017 indica que, en la mayoría de los registros observados, las concentraciones de contaminantes se mantienen por debajo del umbral crítico diseñado para proteger la salud pública y el medio ambiente. Este hallazgo es alentador, ya que la mediana, al ser una medida robusta que no se ve afectada por valores extremos, refleja de manera más precisa el comportamiento típico de los datos.  \n",
    "\n",
    "Para profundizar en la identificación de esos episodios atípicos (outliers) que elevan el promedio a pesar de que la mediana se mantenga por debajo del límite, hemos decidido agrupar por departamentos, promedio y percentil 98. Esto con el fin de que el promedio nos ayude a reflejar la exposición anual en terminos generales y el percentil 98 medir los casos extremos dentro del año."
   ]
  },
  {
   "cell_type": "code",
   "execution_count": 6,
   "id": "126d95c1",
   "metadata": {},
   "outputs": [
    {
     "data": {
      "image/png": "[encoded data removed]",
      "text/plain": [
       "<Figure size 1600x600 with 2 Axes>"
      ]
     },
     "metadata": {},
     "output_type": "display_data"
    },
    {
     "data": {
      "image/png": "[encoded data removed]",
      "text/plain": [
       "<Figure size 1600x600 with 2 Axes>"
      ]
     },
     "metadata": {},
     "output_type": "display_data"
    },
    {
     "data": {
      "image/png": "[encoded data removed]",
      "text/plain": [
       "<Figure size 1600x600 with 2 Axes>"
      ]
     },
     "metadata": {},
     "output_type": "display_data"
    },
    {
     "data": {
      "image/png": "[encoded data removed]",
      "text/plain": [
       "<Figure size 1600x600 with 2 Axes>"
      ]
     },
     "metadata": {},
     "output_type": "display_data"
    }
   ],
   "source": [
    "# Evaluación de valores atipicos por departamento en el 2016 \n",
    "contaminantes_filtrados = [c for c in contaminantes if c != 'NO2']\n",
    "\n",
    "for cont in contaminantes_filtrados:\n",
    "    data_2016 = df_contaminantes[(df_contaminantes['Year'] == 2016) & (df_contaminantes['Variable'] == cont)]\n",
    "\n",
    "    if not data_2016.empty:\n",
    "        fig, axes = plt.subplots(1, 2, figsize = (16, 6), sharey = True)\n",
    "        fig.suptitle(f'Distribución de {cont} por Departamento (2016)', fontsize=14)\n",
    "\n",
    "        # Boxplot del Promedio\n",
    "        sns.boxplot(y='Nombre del Departamento', x='Promedio', data=data_2016, ax=axes[0], color='#D6A84F')\n",
    "        axes[0].set_title('Promedio')\n",
    "        axes[0].set_xlabel('Concentración')\n",
    "        axes[0].set_ylabel('Departamento')\n",
    "\n",
    "        # Boxplot del Percentil 98\n",
    "        sns.boxplot(y='Nombre del Departamento', x='Percentil 98', data=data_2016, ax=axes[1], color='#4B6D88')\n",
    "        axes[1].set_title('Percentil 98')\n",
    "        axes[1].set_xlabel('Concentración')\n",
    "        axes[1].set_ylabel('') \n",
    "\n",
    "        plt.tight_layout(rect=[0, 0, 1, 0.95])\n",
    "        plt.show()"
   ]
  },
  {
   "cell_type": "markdown",
   "id": "3a820781",
   "metadata": {},
   "source": [
    "De acuerdo a las graficas anteriores, podemos obtener las siguientes conclusiones del análisis de contaminantes atmosféricos (2016)  \n",
    "\n",
    "- **Presencia de eventos extremos en PM10**:  \n",
    "Los departamentos de La Guajira, Boyacá y Valle del Cauca muestran concentraciones notablemente elevadas de PM10 tanto en los promedios anuales como en los percentiles 98. Esto sugiere que, además de mantener niveles consistentemente altos, también enfrentan episodios agudos de contaminación, lo cual podría representar un riesgo considerable para la salud pública en esos territorios, en el año indicado.  \n",
    "\n",
    "- **PM2.5 con variabilidad moderada y casos puntuales de alerta**:  \n",
    "El Cesar y Antioquia presentan valores por encima del promedio esperado en PM2.5. Aunque las concentraciones extremas en Cesar muestran rangos dispares, resalta la necesidad de estudiar la estacionalidad o episodios puntuales que podrían estar elevando los niveles.  \n",
    "\n",
    "- **PST con comportamientos estables, salvo una excepción importante**:  \n",
    "En general, los niveles promedio de PST no presentan outliers, lo que indica una estabilidad relativa. Sin embargo, el valor extremo de 501 µg/m³ en el percentil 98 en Cundinamarca constituye una señal de alarma que requiere investigación específica sobre su causa (por ejemplo, actividad industrial, incendios, o condiciones meteorológicas excepcionales).  \n",
    "\n",
    "- **SO2 con impacto localizado en Boyacá**:  \n",
    "Aunque la mayoría de los departamentos no presentan niveles alarmantes, Boyacá destaca con un valor atípico de 60 µg/m³ en su promedio anual, lo que podría estar asociado con actividades industriales o uso de combustibles fósiles. La ausencia de valores extremos en el percentil 98 sugiere que se trata de una exposición sostenida más que de picos puntuales.  \n",
    "\n",
    "Aunque en 2016 se registraron los picos más altos de PST, SO2, PM10 y PM2.5, los departamentos afectados no coincidieron entre sí, lo que indica que las causas de estos aumentos varían según el tipo de contaminante."
   ]
  },
  {
   "cell_type": "code",
   "execution_count": 7,
   "id": "e5466193",
   "metadata": {},
   "outputs": [
    {
     "data": {
      "text/html": [
       "<div>\n",
       "<style scoped>\n",
       "    .dataframe tbody tr th:only-of-type {\n",
       "        vertical-align: middle;\n",
       "    }\n",
       "\n",
       "    .dataframe tbody tr th {\n",
       "        vertical-align: top;\n",
       "    }\n",
       "\n",
       "    .dataframe thead th {\n",
       "        text-align: right;\n",
       "    }\n",
       "</style>\n",
       "<table border=\"1\" class=\"dataframe\">\n",
       "  <thead>\n",
       "    <tr style=\"text-align: right;\">\n",
       "      <th></th>\n",
       "      <th>Nombre del Departamento</th>\n",
       "      <th>Nombre del Municipio</th>\n",
       "      <th>Promedio</th>\n",
       "      <th>Percentil 98</th>\n",
       "    </tr>\n",
       "  </thead>\n",
       "  <tbody>\n",
       "    <tr>\n",
       "      <th>61</th>\n",
       "      <td>VALLE DEL CAUCA</td>\n",
       "      <td>YUMBO</td>\n",
       "      <td>81.9</td>\n",
       "      <td>241.7</td>\n",
       "    </tr>\n",
       "    <tr>\n",
       "      <th>25</th>\n",
       "      <td>BOYACA</td>\n",
       "      <td>RAQUIRA</td>\n",
       "      <td>108.1</td>\n",
       "      <td>206.0</td>\n",
       "    </tr>\n",
       "    <tr>\n",
       "      <th>46</th>\n",
       "      <td>LA GUAJIRA</td>\n",
       "      <td>BARRANCAS</td>\n",
       "      <td>91.2</td>\n",
       "      <td>171.7</td>\n",
       "    </tr>\n",
       "  </tbody>\n",
       "</table>\n",
       "</div>"
      ],
      "text/plain": [
       "   Nombre del Departamento Nombre del Municipio  Promedio  Percentil 98\n",
       "61         VALLE DEL CAUCA                YUMBO      81.9         241.7\n",
       "25                  BOYACA              RAQUIRA     108.1         206.0\n",
       "46              LA GUAJIRA            BARRANCAS      91.2         171.7"
      ]
     },
     "execution_count": 7,
     "metadata": {},
     "output_type": "execute_result"
    }
   ],
   "source": [
    "# Verificamos que municipio o municipios aportarón a los niveles alarmantes de PM10 en La Guajira, Boyacá y Valle del Cauca en 2016\n",
    "PM10_mun_2016 = df_contaminantes[\n",
    "    (df_contaminantes['Variable']=='PM10') & \n",
    "     (df_contaminantes['Year']==2016)\n",
    "      ].groupby(['Nombre del Departamento','Nombre del Municipio'])[['Promedio','Percentil 98']].max().reset_index().sort_values(by='Percentil 98', \n",
    "                                                                                                                     ascending=False)\n",
    "\n",
    "PM10_mun_2016[(PM10_mun_2016['Percentil 98'] > 150) & (PM10_mun_2016['Promedio'] > 80)]"
   ]
  },
  {
   "cell_type": "markdown",
   "id": "ea206903",
   "metadata": {},
   "source": [
    "El boxplot de PM10 para 2016 revela un impacto localizado en los departamentos de Boyacá, Valle del Cauca y La Guajira. Al filtrar los datos por cada departamento y agrupar por municipio, se identificaron tres zonas con los niveles más altos: Yumbo (Valle del Cauca), Ráquira (Boyacá) y Barrancas (La Guajira). Este resultado concuerda con antecedentes bien documentados sobre las fuentes de emisión presentes en cada una de estas localidades.  \n",
    "\n",
    "En Yumbo, considerado la capital industrial del Valle del Cauca, se concentra una alta densidad de empresas del sector Acopi. Las principales fuentes de PM10 en la zona han sido relacionadas con la quema de combustibles fósiles, procesos industriales, canteras y actividades de construcción, según [reporte en Semana](https://www.semana.com/medio-ambiente/articulo/en-el-valle-la-contaminacion-es-hecha-en-yumbo/38652/)  \n",
    "\n",
    "Ráquira, en Boyacá, es reconocida por su producción artesanal de cerámica y alfarería. De acuerdo con un estudio realizado en 2016 por la Universidad El Bosque, los hornos de carbón utilizados en el proceso de cocción de artesanías representan una fuente significativa de emisión de partículas PM10, lo que repercute directamente en la calidad del aire local. [Ver investigación completa](https://repositorio.unbosque.edu.co/server/api/core/bitstreams/d7e00948-c2c7-4ec1-b990-8a0aa8090a7e/content)  \n",
    "\n",
    "En Barrancas, La Guajira, la presencia de minería de carbón a cielo abierto, en particular por su cercanía al complejo minero El Cerrejón, ha sido identificada como la principal fuente de partículas en suspensión. La combinación de la actividad minera,  el clima seco y los fuertes vientos contribuyen a elevados niveles de PM10 en la atmósfera. [Ver tesis completa](https://bibliotecadigital.udea.edu.co/entities/publication/aa3a30ad-bd10-4d1e-b9f3-763399f82436/full)"
   ]
  },
  {
   "cell_type": "code",
   "execution_count": 8,
   "id": "9c2c1660",
   "metadata": {},
   "outputs": [
    {
     "data": {
      "text/html": [
       "<div>\n",
       "<style scoped>\n",
       "    .dataframe tbody tr th:only-of-type {\n",
       "        vertical-align: middle;\n",
       "    }\n",
       "\n",
       "    .dataframe tbody tr th {\n",
       "        vertical-align: top;\n",
       "    }\n",
       "\n",
       "    .dataframe thead th {\n",
       "        text-align: right;\n",
       "    }\n",
       "</style>\n",
       "<table border=\"1\" class=\"dataframe\">\n",
       "  <thead>\n",
       "    <tr style=\"text-align: right;\">\n",
       "      <th></th>\n",
       "      <th>Nombre del Departamento</th>\n",
       "      <th>Nombre del Municipio</th>\n",
       "      <th>Promedio</th>\n",
       "      <th>Percentil 98</th>\n",
       "    </tr>\n",
       "  </thead>\n",
       "  <tbody>\n",
       "    <tr>\n",
       "      <th>5</th>\n",
       "      <td>ANTIOQUIA</td>\n",
       "      <td>SABANETA</td>\n",
       "      <td>50.5</td>\n",
       "      <td>108.0</td>\n",
       "    </tr>\n",
       "    <tr>\n",
       "      <th>4</th>\n",
       "      <td>ANTIOQUIA</td>\n",
       "      <td>MEDELLIN</td>\n",
       "      <td>39.5</td>\n",
       "      <td>101.0</td>\n",
       "    </tr>\n",
       "    <tr>\n",
       "      <th>7</th>\n",
       "      <td>CESAR</td>\n",
       "      <td>EL PASO</td>\n",
       "      <td>35.2</td>\n",
       "      <td>87.7</td>\n",
       "    </tr>\n",
       "    <tr>\n",
       "      <th>3</th>\n",
       "      <td>ANTIOQUIA</td>\n",
       "      <td>ITAGUI</td>\n",
       "      <td>29.5</td>\n",
       "      <td>85.0</td>\n",
       "    </tr>\n",
       "  </tbody>\n",
       "</table>\n",
       "</div>"
      ],
      "text/plain": [
       "  Nombre del Departamento Nombre del Municipio  Promedio  Percentil 98\n",
       "5               ANTIOQUIA             SABANETA      50.5         108.0\n",
       "4               ANTIOQUIA             MEDELLIN      39.5         101.0\n",
       "7                   CESAR              EL PASO      35.2          87.7\n",
       "3               ANTIOQUIA               ITAGUI      29.5          85.0"
      ]
     },
     "execution_count": 8,
     "metadata": {},
     "output_type": "execute_result"
    }
   ],
   "source": [
    "# Verificamos que municipio o municipios aportarón a los niveles alarmantes de PM2.5 en Cesar y Antioquia en 2016\n",
    "PM25_mun_2016 = df_contaminantes[\n",
    "    (df_contaminantes['Variable']=='PM2.5') & \n",
    "     (df_contaminantes['Year']==2016)\n",
    "      ].groupby(['Nombre del Departamento','Nombre del Municipio'])[['Promedio','Percentil 98']].max().reset_index().sort_values(by='Percentil 98', \n",
    "                                                                                                                     ascending=False)\n",
    "\n",
    "PM25_mun_2016[(PM25_mun_2016['Percentil 98'] > 84) | (PM25_mun_2016['Promedio'] > 35)]"
   ]
  },
  {
   "cell_type": "markdown",
   "id": "098f84eb",
   "metadata": {},
   "source": [
    "El boxplot de PM2.5 correspondiente al año 2016 evidencia un impacto localizado en los departamentos de Antioquia y Cesar. Al filtrar los datos por departamento y agrupar por municipio, se identificaron como zonas con los valores más altos a Medellín, Itagüí y Sabaneta en Antioquia, y El Paso en el Cesar. Estos resultados concuerdan con antecedentes conocidos sobre las fuentes de emisión presentes en cada uno de estos territorios.  \n",
    "\n",
    "Medellín, Itagüí y Sabaneta pertenecen al Área Metropolitana del Valle de Aburrá, una región con condiciones topográficas desfavorables (valle cerrado rodeado de montañas), lo que dificulta la dispersión de contaminantes. En 2016 se presentaron alertas naranja y roja por PM2.5, especialmente en los meses de marzo y abril, debido a fenómenos de inversión térmica, alta densidad vehicular y actividad industrial constante, factores que propiciaron niveles críticos de contaminación. [Ver tesis](https://bibliotecadigital.udea.edu.co/entities/publication/45e12c04-6cd2-44c0-9ba9-fa4cd71294f7) y [articulo completo](https://repository.umng.edu.co/server/api/core/bitstreams/b2ac166f-c863-4b84-a557-52d9b9fa5b98/content)  \n",
    "\n",
    "En El Paso, Cesar, aunque existen menos estudios disponibles, se ha documentado su cercanía a zonas mineras de alto impacto, como las operaciones de Drummond Ltd. Las actividades propias de la minería a cielo abierto—explosiones, transporte y carga de carbón—sumadas a las condiciones climáticas secas, contribuyen significativamente a la generación de material particulado fino como el PM2.5. [Leer artículo en Portada](https://portada.com.co/la-calidad-del-aire-el-compromiso-de-drummond/)"
   ]
  },
  {
   "cell_type": "code",
   "execution_count": 9,
   "id": "778054c0",
   "metadata": {},
   "outputs": [
    {
     "data": {
      "text/html": [
       "<div>\n",
       "<style scoped>\n",
       "    .dataframe tbody tr th:only-of-type {\n",
       "        vertical-align: middle;\n",
       "    }\n",
       "\n",
       "    .dataframe tbody tr th {\n",
       "        vertical-align: top;\n",
       "    }\n",
       "\n",
       "    .dataframe thead th {\n",
       "        text-align: right;\n",
       "    }\n",
       "</style>\n",
       "<table border=\"1\" class=\"dataframe\">\n",
       "  <thead>\n",
       "    <tr style=\"text-align: right;\">\n",
       "      <th></th>\n",
       "      <th>Nombre del Departamento</th>\n",
       "      <th>Nombre del Municipio</th>\n",
       "      <th>Percentil 98</th>\n",
       "    </tr>\n",
       "  </thead>\n",
       "  <tbody>\n",
       "    <tr>\n",
       "      <th>9</th>\n",
       "      <td>CUNDINAMARCA</td>\n",
       "      <td>MOSQUERA</td>\n",
       "      <td>507.9</td>\n",
       "    </tr>\n",
       "  </tbody>\n",
       "</table>\n",
       "</div>"
      ],
      "text/plain": [
       "  Nombre del Departamento Nombre del Municipio  Percentil 98\n",
       "9            CUNDINAMARCA             MOSQUERA         507.9"
      ]
     },
     "execution_count": 9,
     "metadata": {},
     "output_type": "execute_result"
    }
   ],
   "source": [
    "# Verificamos que municipio o municipios aportarón a los niveles alarmantes de PST en Cundinamarca en 2016\n",
    "PST_mun_2016 = df_contaminantes[\n",
    "    (df_contaminantes['Variable']=='PST') & \n",
    "     (df_contaminantes['Year']==2016)\n",
    "      ].groupby(['Nombre del Departamento','Nombre del Municipio'])['Percentil 98'].max().reset_index().sort_values(by='Percentil 98', \n",
    "                                                                                                                     ascending=False)\n",
    "\n",
    "PST_mun_2016[PST_mun_2016['Percentil 98'] > 500]"
   ]
  },
  {
   "cell_type": "markdown",
   "id": "6c747085",
   "metadata": {},
   "source": [
    "El boxplot de PST para el año 2016 evidencia un impacto localizado en el departamento de Cundinamarca. Al filtrar los datos por este departamento y agruparlos por municipio, se identificó a Mosquera como el que registró el valor más alto en el percentil 98. Aunque no se hallaron eventos críticos específicos que expliquen este pico, es importante considerar que Mosquera es una zona de alta actividad industrial, con movimiento constante de maquinaria pesada, tránsito vehicular y obras de construcción, factores que contribuyen significativamente a la elevación de partículas suspendidas totales en el aire. [Repositorio UNAD](https://repository.unad.edu.co/bitstream/handle/10596/62323/Dfvacaj.pdf?sequence=1)"
   ]
  },
  {
   "cell_type": "code",
   "execution_count": 10,
   "id": "0e324bc6",
   "metadata": {},
   "outputs": [
    {
     "data": {
      "text/html": [
       "<div>\n",
       "<style scoped>\n",
       "    .dataframe tbody tr th:only-of-type {\n",
       "        vertical-align: middle;\n",
       "    }\n",
       "\n",
       "    .dataframe tbody tr th {\n",
       "        vertical-align: top;\n",
       "    }\n",
       "\n",
       "    .dataframe thead th {\n",
       "        text-align: right;\n",
       "    }\n",
       "</style>\n",
       "<table border=\"1\" class=\"dataframe\">\n",
       "  <thead>\n",
       "    <tr style=\"text-align: right;\">\n",
       "      <th></th>\n",
       "      <th>Nombre del Departamento</th>\n",
       "      <th>Nombre del Municipio</th>\n",
       "      <th>Promedio</th>\n",
       "    </tr>\n",
       "  </thead>\n",
       "  <tbody>\n",
       "    <tr>\n",
       "      <th>2</th>\n",
       "      <td>BOYACA</td>\n",
       "      <td>PAIPA</td>\n",
       "      <td>60.0</td>\n",
       "    </tr>\n",
       "  </tbody>\n",
       "</table>\n",
       "</div>"
      ],
      "text/plain": [
       "  Nombre del Departamento Nombre del Municipio  Promedio\n",
       "2                  BOYACA                PAIPA      60.0"
      ]
     },
     "execution_count": 10,
     "metadata": {},
     "output_type": "execute_result"
    }
   ],
   "source": [
    "# Verificamos que municipio o municipios aportarón a los niveles alarmantes de SO2 en Boyacá en 2016\n",
    "so2_mun_2016 = df_contaminantes[\n",
    "    (df_contaminantes['Variable']=='SO2') & \n",
    "     (df_contaminantes['Year']==2016)\n",
    "      ].groupby(['Nombre del Departamento','Nombre del Municipio'])['Promedio'].max().reset_index().sort_values(by='Promedio', ascending=False)\n",
    "\n",
    "so2_mun_2016[so2_mun_2016['Promedio'] > 55]"
   ]
  },
  {
   "cell_type": "markdown",
   "id": "fb5e893f",
   "metadata": {},
   "source": [
    "El boxplot de SO₂ para 2016 revela un impacto localizado en el departamento de Boyacá. Al filtrar los datos por este departamento y agrupar por municipio, se identificó a Paipa como el que registró el promedio más alto. Este resultado coincide con un evento crítico ocurrido el 28 de febrero de ese mismo año, cuando la estación móvil ubicada en la vereda El Volcán reportó un pico horario de 700 µg/m³, superando ampliamente el límite de 80 µg/m³ establecido por la Resolución 2254 de 2017. Según Corpoboyacá, este episodio fue atribuido a la quema de carbón en las termoeléctricas Gensa y Electrosochagota, lo que llevó a la emisión de una alerta ambiental por parte de las autoridades locales. [Ver artículo completo](https://entreojos.co/termoelectricas-cuestionadas-por-contaminacion-del-aire-en-paipa/)"
   ]
  },
  {
   "cell_type": "markdown",
   "id": "c31c70e0",
   "metadata": {},
   "source": [
    "### ¿Los municipios industriales tienen mayor SO2 y NO2?"
   ]
  },
  {
   "cell_type": "markdown",
   "id": "7d498c2c",
   "metadata": {},
   "source": [
    "Los procesos industriales son una de las principales fuentes de dióxido de azufre (SO₂) y dióxido de nitrógeno (NO₂) en la atmósfera. Estas sustancias se generan principalmente en actividades que involucran la combustión de combustibles fósiles y ciertos procesos químicos.  \n",
    "\n",
    "Las ciudades o municipios industriales principales en Colombia son:  \n",
    "\n",
    "* Bogotá → Es el centro económico del país, con industrias de manufactura, tecnología, alimentos y textiles.  \n",
    "\n",
    "* Medellín → Destacada por su industria textil, moda, metalurgia y tecnología.  \n",
    "\n",
    "* Cali → Importante en el sector de alimentos, químicos y manufactura.  \n",
    "\n",
    "* Barranquilla → Tiene una gran actividad portuaria e industrial, especialmente en metalurgia y petroquímica.  \n",
    "\n",
    "* Cartagena → Famosa por su industria petroquímica y refinerías de petróleo.  \n",
    "\n",
    "* Bucaramanga → Con fuerte presencia en manufactura, calzado y metalurgia."
   ]
  },
  {
   "cell_type": "code",
   "execution_count": 11,
   "id": "e2267345",
   "metadata": {},
   "outputs": [
    {
     "data": {
      "image/png": "[encoded data removed]",
      "text/plain": [
       "<Figure size 1200x500 with 2 Axes>"
      ]
     },
     "metadata": {},
     "output_type": "display_data"
    }
   ],
   "source": [
    "# ---Calculamos el promedio de SO2 por Municipio en Colombia---\n",
    "\n",
    "promedio_so2 = df_contaminantes[df_contaminantes['Variable']=='SO2'].groupby('Nombre del Municipio')['Promedio'].mean().reset_index()\n",
    "promedio_so2 = promedio_so2.rename(columns={\"Promedio\": \"Promedio SO2\"}) # Reenombramos la columna Promedio a Promedio SO2\n",
    "promedio_so2 = promedio_so2.sort_values(by='Promedio SO2', ascending = False)  # Ordenamos nuestros datos de mayor a menor\n",
    "promedio_so2 = promedio_so2[promedio_so2[\"Promedio SO2\"] > 10] # Filtrar municipios con promedio > 10\n",
    "\n",
    "# ---Calculamos el promedio de NO2 por Municipio en Colombia---\n",
    "\n",
    "promedio_no2 = df_contaminantes[df_contaminantes['Variable']=='NO2'].groupby('Nombre del Municipio')['Promedio'].mean().reset_index()\n",
    "promedio_no2 = promedio_no2.rename(columns={\"Promedio\": \"Promedio NO2\"}) # Reenombramos la columna Promedio a Promedio NO2\n",
    "promedio_no2 = promedio_no2.sort_values(by='Promedio NO2', ascending = False)  # Ordenamos nuestros datos de mayor a menor\n",
    "promedio_no2 = promedio_no2[promedio_no2[\"Promedio NO2\"] > 24.2] # Filtrar municipios con promedio > 24.2\n",
    "\n",
    "# Crear una figura y ejes para los subplots\n",
    "fig1, axes1 = plt.subplots(nrows=1, ncols=2, figsize=(12, 5))\n",
    "sns.barplot(data = promedio_so2, x = 'Promedio SO2', y = 'Nombre del Municipio', ax = axes1[0], color=\"#D6A84F\")\n",
    "sns.barplot(data = promedio_no2, x='Promedio NO2', y = 'Nombre del Municipio', ax=axes1[1], color='#4B6D88')\n",
    "\n",
    "# Añadir títulos y etiquetas a los subplots\n",
    "axes1[0].set_title('Municipios con mayor promedio de SO2')\n",
    "axes1[1].set_title('Municipios con mayor promedio de NO2')\n",
    "\n",
    "plt.tight_layout(rect=[0, 0, 1, 0.95])\n",
    "plt.show()"
   ]
  },
  {
   "cell_type": "markdown",
   "id": "5d0982f4",
   "metadata": {},
   "source": [
    "Aunque se podría esperar que los municipios con mayor actividad industrial presentaran los niveles más altos de SO₂ y NO₂, el análisis muestra un patrón distinto. **En el caso del SO₂, los promedios más altos se registran en Paipa, Nemocón y Cajicá, mientras que para el NO₂ destacan Medellín, Sabaneta y Cota**. Este hallazgo sugiere que otros factores —como el tráfico vehicular, los procesos urbanos, las condiciones meteorológicas locales o incluso fuentes puntuales no industriales— pueden estar influyendo significativamente en los niveles de estos contaminantes. Por ejemplo, la quema de carbón en termoeléctricas (como en Paipa), la congestión vial (como en Medellín y su área metropolitana), o la topografía de los valles cerrados pueden agravar la acumulación de contaminantes incluso en zonas no eminentemente industriales."
   ]
  },
  {
   "cell_type": "markdown",
   "id": "78eeaecd",
   "metadata": {},
   "source": [
    "### ¿El porcentaje de excedencias ha mejorado?"
   ]
  },
  {
   "cell_type": "code",
   "execution_count": 12,
   "id": "72b57f31",
   "metadata": {},
   "outputs": [
    {
     "data": {
      "application/vnd.plotly.v1+json": {
       "config": {
        "plotlyServerURL": "https://plot.ly"
       },
       "data": [
        {
         "hovertemplate": "Year=%{x}<br>Porcentaje excedencias limite actual=%{y}<extra></extra>",
         "legendgroup": "",
         "line": {
          "color": "#636efa",
          "dash": "solid"
         },
         "marker": {
          "symbol": "circle"
         },
         "mode": "lines",
         "name": "",
         "orientation": "v",
         "showlegend": false,
         "type": "scatter",
         "x": {
          "bdata": "2wfcB90H3gffB+AH4QfiB+MH5AflB+YH",
          "dtype": "i2"
         },
         "xaxis": "x",
         "y": {
          "bdata": "1wy+0tzu4j/+ARoZU9PsPwOvLPDKAvA/HV+vpWSL3z8OjOjAiA7qP59dQGwqDf4/9Shcj8IF4j+yUTB+yMX2P5X3u0RWeRBAewfh2EdNFUDQ1CQO/KQIQKUTXDrBpf8/",
          "dtype": "f8"
         },
         "yaxis": "y"
        }
       ],
       "layout": {
        "legend": {
         "tracegroupgap": 0
        },
        "template": {
         "data": {
          "bar": [
           {
            "error_x": {
             "color": "#2a3f5f"
            },
            "error_y": {
             "color": "#2a3f5f"
            },
            "marker": {
             "line": {
              "color": "white",
              "width": 0.5
             },
             "pattern": {
              "fillmode": "overlay",
              "size": 10,
              "solidity": 0.2
             }
            },
            "type": "bar"
           }
          ],
          "barpolar": [
           {
            "marker": {
             "line": {
              "color": "white",
              "width": 0.5
             },
             "pattern": {
              "fillmode": "overlay",
              "size": 10,
              "solidity": 0.2
             }
            },
            "type": "barpolar"
           }
          ],
          "carpet": [
           {
            "aaxis": {
             "endlinecolor": "#2a3f5f",
             "gridcolor": "#C8D4E3",
             "linecolor": "#C8D4E3",
             "minorgridcolor": "#C8D4E3",
             "startlinecolor": "#2a3f5f"
            },
            "baxis": {
             "endlinecolor": "#2a3f5f",
             "gridcolor": "#C8D4E3",
             "linecolor": "#C8D4E3",
             "minorgridcolor": "#C8D4E3",
             "startlinecolor": "#2a3f5f"
            },
            "type": "carpet"
           }
          ],
          "choropleth": [
           {
            "colorbar": {
             "outlinewidth": 0,
             "ticks": ""
            },
            "type": "choropleth"
           }
          ],
          "contour": [
           {
            "colorbar": {
             "outlinewidth": 0,
             "ticks": ""
            },
            "colorscale": [
             [
              0,
              "#0d0887"
             ],
             [
              0.1111111111111111,
              "#46039f"
             ],
             [
              0.2222222222222222,
              "#7201a8"
             ],
             [
              0.3333333333333333,
              "#9c179e"
             ],
             [
              0.4444444444444444,
              "#bd3786"
             ],
             [
              0.5555555555555556,
              "#d8576b"
             ],
             [
              0.6666666666666666,
              "#ed7953"
             ],
             [
              0.7777777777777778,
              "#fb9f3a"
             ],
             [
              0.8888888888888888,
              "#fdca26"
             ],
             [
              1,
              "#f0f921"
             ]
            ],
            "type": "contour"
           }
          ],
          "contourcarpet": [
           {
            "colorbar": {
             "outlinewidth": 0,
             "ticks": ""
            },
            "type": "contourcarpet"
           }
          ],
          "heatmap": [
           {
            "colorbar": {
             "outlinewidth": 0,
             "ticks": ""
            },
            "colorscale": [
             [
              0,
              "#0d0887"
             ],
             [
              0.1111111111111111,
              "#46039f"
             ],
             [
              0.2222222222222222,
              "#7201a8"
             ],
             [
              0.3333333333333333,
              "#9c179e"
             ],
             [
              0.4444444444444444,
              "#bd3786"
             ],
             [
              0.5555555555555556,
              "#d8576b"
             ],
             [
              0.6666666666666666,
              "#ed7953"
             ],
             [
              0.7777777777777778,
              "#fb9f3a"
             ],
             [
              0.8888888888888888,
              "#fdca26"
             ],
             [
              1,
              "#f0f921"
             ]
            ],
            "type": "heatmap"
           }
          ],
          "histogram": [
           {
            "marker": {
             "pattern": {
              "fillmode": "overlay",
              "size": 10,
              "solidity": 0.2
             }
            },
            "type": "histogram"
           }
          ],
          "histogram2d": [
           {
            "colorbar": {
             "outlinewidth": 0,
             "ticks": ""
            },
            "colorscale": [
             [
              0,
              "#0d0887"
             ],
             [
              0.1111111111111111,
              "#46039f"
             ],
             [
              0.2222222222222222,
              "#7201a8"
             ],
             [
              0.3333333333333333,
              "#9c179e"
             ],
             [
              0.4444444444444444,
              "#bd3786"
             ],
             [
              0.5555555555555556,
              "#d8576b"
             ],
             [
              0.6666666666666666,
              "#ed7953"
             ],
             [
              0.7777777777777778,
              "#fb9f3a"
             ],
             [
              0.8888888888888888,
              "#fdca26"
             ],
             [
              1,
              "#f0f921"
             ]
            ],
            "type": "histogram2d"
           }
          ],
          "histogram2dcontour": [
           {
            "colorbar": {
             "outlinewidth": 0,
             "ticks": ""
            },
            "colorscale": [
             [
              0,
              "#0d0887"
             ],
             [
              0.1111111111111111,
              "#46039f"
             ],
             [
              0.2222222222222222,
              "#7201a8"
             ],
             [
              0.3333333333333333,
              "#9c179e"
             ],
             [
              0.4444444444444444,
              "#bd3786"
             ],
             [
              0.5555555555555556,
              "#d8576b"
             ],
             [
              0.6666666666666666,
              "#ed7953"
             ],
             [
              0.7777777777777778,
              "#fb9f3a"
             ],
             [
              0.8888888888888888,
              "#fdca26"
             ],
             [
              1,
              "#f0f921"
             ]
            ],
            "type": "histogram2dcontour"
           }
          ],
          "mesh3d": [
           {
            "colorbar": {
             "outlinewidth": 0,
             "ticks": ""
            },
            "type": "mesh3d"
           }
          ],
          "parcoords": [
           {
            "line": {
             "colorbar": {
              "outlinewidth": 0,
              "ticks": ""
             }
            },
            "type": "parcoords"
           }
          ],
          "pie": [
           {
            "automargin": true,
            "type": "pie"
           }
          ],
          "scatter": [
           {
            "fillpattern": {
             "fillmode": "overlay",
             "size": 10,
             "solidity": 0.2
            },
            "type": "scatter"
           }
          ],
          "scatter3d": [
           {
            "line": {
             "colorbar": {
              "outlinewidth": 0,
              "ticks": ""
             }
            },
            "marker": {
             "colorbar": {
              "outlinewidth": 0,
              "ticks": ""
             }
            },
            "type": "scatter3d"
           }
          ],
          "scattercarpet": [
           {
            "marker": {
             "colorbar": {
              "outlinewidth": 0,
              "ticks": ""
             }
            },
            "type": "scattercarpet"
           }
          ],
          "scattergeo": [
           {
            "marker": {
             "colorbar": {
              "outlinewidth": 0,
              "ticks": ""
             }
            },
            "type": "scattergeo"
           }
          ],
          "scattergl": [
           {
            "marker": {
             "colorbar": {
              "outlinewidth": 0,
              "ticks": ""
             }
            },
            "type": "scattergl"
           }
          ],
          "scattermap": [
           {
            "marker": {
             "colorbar": {
              "outlinewidth": 0,
              "ticks": ""
             }
            },
            "type": "scattermap"
           }
          ],
          "scattermapbox": [
           {
            "marker": {
             "colorbar": {
              "outlinewidth": 0,
              "ticks": ""
             }
            },
            "type": "scattermapbox"
           }
          ],
          "scatterpolar": [
           {
            "marker": {
             "colorbar": {
              "outlinewidth": 0,
              "ticks": ""
             }
            },
            "type": "scatterpolar"
           }
          ],
          "scatterpolargl": [
           {
            "marker": {
             "colorbar": {
              "outlinewidth": 0,
              "ticks": ""
             }
            },
            "type": "scatterpolargl"
           }
          ],
          "scatterternary": [
           {
            "marker": {
             "colorbar": {
              "outlinewidth": 0,
              "ticks": ""
             }
            },
            "type": "scatterternary"
           }
          ],
          "surface": [
           {
            "colorbar": {
             "outlinewidth": 0,
             "ticks": ""
            },
            "colorscale": [
             [
              0,
              "#0d0887"
             ],
             [
              0.1111111111111111,
              "#46039f"
             ],
             [
              0.2222222222222222,
              "#7201a8"
             ],
             [
              0.3333333333333333,
              "#9c179e"
             ],
             [
              0.4444444444444444,
              "#bd3786"
             ],
             [
              0.5555555555555556,
              "#d8576b"
             ],
             [
              0.6666666666666666,
              "#ed7953"
             ],
             [
              0.7777777777777778,
              "#fb9f3a"
             ],
             [
              0.8888888888888888,
              "#fdca26"
             ],
             [
              1,
              "#f0f921"
             ]
            ],
            "type": "surface"
           }
          ],
          "table": [
           {
            "cells": {
             "fill": {
              "color": "#EBF0F8"
             },
             "line": {
              "color": "white"
             }
            },
            "header": {
             "fill": {
              "color": "#C8D4E3"
             },
             "line": {
              "color": "white"
             }
            },
            "type": "table"
           }
          ]
         },
         "layout": {
          "annotationdefaults": {
           "arrowcolor": "#2a3f5f",
           "arrowhead": 0,
           "arrowwidth": 1
          },
          "autotypenumbers": "strict",
          "coloraxis": {
           "colorbar": {
            "outlinewidth": 0,
            "ticks": ""
           }
          },
          "colorscale": {
           "diverging": [
            [
             0,
             "#8e0152"
            ],
            [
             0.1,
             "#c51b7d"
            ],
            [
             0.2,
             "#de77ae"
            ],
            [
             0.3,
             "#f1b6da"
            ],
            [
             0.4,
             "#fde0ef"
            ],
            [
             0.5,
             "#f7f7f7"
            ],
            [
             0.6,
             "#e6f5d0"
            ],
            [
             0.7,
             "#b8e186"
            ],
            [
             0.8,
             "#7fbc41"
            ],
            [
             0.9,
             "#4d9221"
            ],
            [
             1,
             "#276419"
            ]
           ],
           "sequential": [
            [
             0,
             "#0d0887"
            ],
            [
             0.1111111111111111,
             "#46039f"
            ],
            [
             0.2222222222222222,
             "#7201a8"
            ],
            [
             0.3333333333333333,
             "#9c179e"
            ],
            [
             0.4444444444444444,
             "#bd3786"
            ],
            [
             0.5555555555555556,
             "#d8576b"
            ],
            [
             0.6666666666666666,
             "#ed7953"
            ],
            [
             0.7777777777777778,
             "#fb9f3a"
            ],
            [
             0.8888888888888888,
             "#fdca26"
            ],
            [
             1,
             "#f0f921"
            ]
           ],
           "sequentialminus": [
            [
             0,
             "#0d0887"
            ],
            [
             0.1111111111111111,
             "#46039f"
            ],
            [
             0.2222222222222222,
             "#7201a8"
            ],
            [
             0.3333333333333333,
             "#9c179e"
            ],
            [
             0.4444444444444444,
             "#bd3786"
            ],
            [
             0.5555555555555556,
             "#d8576b"
            ],
            [
             0.6666666666666666,
             "#ed7953"
            ],
            [
             0.7777777777777778,
             "#fb9f3a"
            ],
            [
             0.8888888888888888,
             "#fdca26"
            ],
            [
             1,
             "#f0f921"
            ]
           ]
          },
          "colorway": [
           "#636efa",
           "#EF553B",
           "#00cc96",
           "#ab63fa",
           "#FFA15A",
           "#19d3f3",
           "#FF6692",
           "#B6E880",
           "#FF97FF",
           "#FECB52"
          ],
          "font": {
           "color": "#2a3f5f"
          },
          "geo": {
           "bgcolor": "white",
           "lakecolor": "white",
           "landcolor": "white",
           "showlakes": true,
           "showland": true,
           "subunitcolor": "#C8D4E3"
          },
          "hoverlabel": {
           "align": "left"
          },
          "hovermode": "closest",
          "mapbox": {
           "style": "light"
          },
          "paper_bgcolor": "white",
          "plot_bgcolor": "white",
          "polar": {
           "angularaxis": {
            "gridcolor": "#EBF0F8",
            "linecolor": "#EBF0F8",
            "ticks": ""
           },
           "bgcolor": "white",
           "radialaxis": {
            "gridcolor": "#EBF0F8",
            "linecolor": "#EBF0F8",
            "ticks": ""
           }
          },
          "scene": {
           "xaxis": {
            "backgroundcolor": "white",
            "gridcolor": "#DFE8F3",
            "gridwidth": 2,
            "linecolor": "#EBF0F8",
            "showbackground": true,
            "ticks": "",
            "zerolinecolor": "#EBF0F8"
           },
           "yaxis": {
            "backgroundcolor": "white",
            "gridcolor": "#DFE8F3",
            "gridwidth": 2,
            "linecolor": "#EBF0F8",
            "showbackground": true,
            "ticks": "",
            "zerolinecolor": "#EBF0F8"
           },
           "zaxis": {
            "backgroundcolor": "white",
            "gridcolor": "#DFE8F3",
            "gridwidth": 2,
            "linecolor": "#EBF0F8",
            "showbackground": true,
            "ticks": "",
            "zerolinecolor": "#EBF0F8"
           }
          },
          "shapedefaults": {
           "line": {
            "color": "#2a3f5f"
           }
          },
          "ternary": {
           "aaxis": {
            "gridcolor": "#DFE8F3",
            "linecolor": "#A2B1C6",
            "ticks": ""
           },
           "baxis": {
            "gridcolor": "#DFE8F3",
            "linecolor": "#A2B1C6",
            "ticks": ""
           },
           "bgcolor": "white",
           "caxis": {
            "gridcolor": "#DFE8F3",
            "linecolor": "#A2B1C6",
            "ticks": ""
           }
          },
          "title": {
           "x": 0.05
          },
          "xaxis": {
           "automargin": true,
           "gridcolor": "#EBF0F8",
           "linecolor": "#EBF0F8",
           "ticks": "",
           "title": {
            "standoff": 15
           },
           "zerolinecolor": "#EBF0F8",
           "zerolinewidth": 2
          },
          "yaxis": {
           "automargin": true,
           "gridcolor": "#EBF0F8",
           "linecolor": "#EBF0F8",
           "ticks": "",
           "title": {
            "standoff": 15
           },
           "zerolinecolor": "#EBF0F8",
           "zerolinewidth": 2
          }
         }
        },
        "title": {
         "text": "Tendencia nacional de % de excedencias (2011–2022)"
        },
        "xaxis": {
         "anchor": "y",
         "domain": [
          0,
          1
         ],
         "title": {
          "text": "Year"
         }
        },
        "yaxis": {
         "anchor": "x",
         "domain": [
          0,
          1
         ],
         "title": {
          "text": "Porcentaje excedencias limite actual"
         }
        }
       }
      }
     },
     "metadata": {},
     "output_type": "display_data"
    }
   ],
   "source": [
    "import plotly.express as px\n",
    "\n",
    "#Agrupamos por año y calculamos el promedio general de excedencias, sin importar el contaminante\n",
    "excedencias_nacionales = df_contaminantes.groupby('Year')['Porcentaje excedencias limite actual'].mean().reset_index()\n",
    "\n",
    "# Graficamos los porcentajes de excedencias por año, sin importar el contaminante\n",
    "px.line(excedencias_nacionales, x = 'Year', y = 'Porcentaje excedencias limite actual',\n",
    "        title = 'Tendencia nacional de % de excedencias (2011–2022)', template = 'plotly_white')"
   ]
  },
  {
   "cell_type": "markdown",
   "id": "b0c76ead",
   "metadata": {},
   "source": [
    "Contrario a lo esperado, **el año 2020 —en medio de las restricciones por la pandemia de COVID-19— fue el de mayor porcentaje de excedencias a nivel nacional (5.33%)**. Este hallazgo contrasta con la narrativa global de mejoría ambiental durante los confinamientos, lo que sugiere la influencia de otros factores como condiciones meteorológicas desfavorables, continuidad de actividades industriales esenciales, y posible aumento en el uso de combustibles domésticos. Esto refuerza la idea de que la calidad del aire no depende únicamente del tránsito vehicular, sino de un conjunto complejo de variables urbanas, económicas y climáticas."
   ]
  },
  {
   "cell_type": "code",
   "execution_count": 13,
   "id": "9eb8492c",
   "metadata": {},
   "outputs": [
    {
     "data": {
      "application/vnd.plotly.v1+json": {
       "config": {
        "plotlyServerURL": "https://plot.ly"
       },
       "data": [
        {
         "hovertemplate": "Nombre del Departamento=ANTIOQUIA<br>Year=%{x}<br>Porcentaje excedencias limite actual=%{y}<extra></extra>",
         "legendgroup": "ANTIOQUIA",
         "line": {
          "color": "#636efa",
          "dash": "solid"
         },
         "marker": {
          "symbol": "circle"
         },
         "mode": "lines",
         "name": "ANTIOQUIA",
         "orientation": "v",
         "showlegend": true,
         "type": "scatter",
         "x": {
          "bdata": "2wfcB90H3gffB+AH4QfiB+MH5AflB+YH",
          "dtype": "i2"
         },
         "xaxis": "x",
         "y": {
          "bdata": "EoPAyqFF6j/wzauJZ0XhP8iPHz9+/Mg/H4XrUbhe1T+EBkNoMIToPzmlpDl7IQNAN+0DEZ8G0j8TChFwCFXyP8P1KFyPgvc/qZVaqZVaFUBISEhISEgOQDfBR0Ak+whA",
          "dtype": "f8"
         },
         "yaxis": "y"
        },
        {
         "hovertemplate": "Nombre del Departamento=BOYACA<br>Year=%{x}<br>Porcentaje excedencias limite actual=%{y}<extra></extra>",
         "legendgroup": "BOYACA",
         "line": {
          "color": "#EF553B",
          "dash": "solid"
         },
         "marker": {
          "symbol": "circle"
         },
         "mode": "lines",
         "name": "BOYACA",
         "orientation": "v",
         "showlegend": true,
         "type": "scatter",
         "x": {
          "bdata": "2wfcB90H3gffB+AH4QfiB+MH5AflB+YH",
          "dtype": "i2"
         },
         "xaxis": "x",
         "y": {
          "bdata": "16NwPQrX+D+ZmZmZmXkUQAc6baDThjNAAAAAAAAAAAAAAAAAAAAAAAAAAAAAAPw/2kCnDXTasD+nYXkalqf5P923+J+tIRJAttkp3rMUEUD2NrEw3zQLQOUXS36x5ARA",
          "dtype": "f8"
         },
         "yaxis": "y"
        },
        {
         "hovertemplate": "Nombre del Departamento=CALDAS<br>Year=%{x}<br>Porcentaje excedencias limite actual=%{y}<extra></extra>",
         "legendgroup": "CALDAS",
         "line": {
          "color": "#00cc96",
          "dash": "solid"
         },
         "marker": {
          "symbol": "circle"
         },
         "mode": "lines",
         "name": "CALDAS",
         "orientation": "v",
         "showlegend": true,
         "type": "scatter",
         "x": {
          "bdata": "2wfcB90H3gffB+AH4QfiB+MH5AflB+YH",
          "dtype": "i2"
         },
         "xaxis": "x",
         "y": {
          "bdata": "AAAAAAAAAACkcD0K16PQPwAAAAAAAAAAAAAAAAAAAAAAAAAAAAAAAAAAAAAAAAAAAAAAAAAAAAAAAAAAAAAAAAAAAAAAAAAAAAAAAAAAAAAAAAAAAAAAAAAAAAAAAAAA",
          "dtype": "f8"
         },
         "yaxis": "y"
        },
        {
         "hovertemplate": "Nombre del Departamento=CESAR<br>Year=%{x}<br>Porcentaje excedencias limite actual=%{y}<extra></extra>",
         "legendgroup": "CESAR",
         "line": {
          "color": "#ab63fa",
          "dash": "solid"
         },
         "marker": {
          "symbol": "circle"
         },
         "mode": "lines",
         "name": "CESAR",
         "orientation": "v",
         "showlegend": true,
         "type": "scatter",
         "x": {
          "bdata": "2wfcB90H3gffB+AH4QfiB+MH5AflB+YH",
          "dtype": "i2"
         },
         "xaxis": "x",
         "y": {
          "bdata": "4fc6deQVAEB2Bci95kIGQBeSplScfQBA/H2636f77T+amZmZmfkBQHBY+4a1bwhAdcrkVkX59D9EWsaHngoAQNNNYhBYuRNATxvotIFOF0CSjk9fWxz8P9MGOm2g0/I/",
          "dtype": "f8"
         },
         "yaxis": "y"
        },
        {
         "hovertemplate": "Nombre del Departamento=CUNDINAMARCA<br>Year=%{x}<br>Porcentaje excedencias limite actual=%{y}<extra></extra>",
         "legendgroup": "CUNDINAMARCA",
         "line": {
          "color": "#FFA15A",
          "dash": "solid"
         },
         "marker": {
          "symbol": "circle"
         },
         "mode": "lines",
         "name": "CUNDINAMARCA",
         "orientation": "v",
         "showlegend": true,
         "type": "scatter",
         "x": {
          "bdata": "2wfcB90H3gffB+AH4QfiB+MH5AflB+YH",
          "dtype": "i2"
         },
         "xaxis": "x",
         "y": {
          "bdata": "AAAAAAAAAAAAAAAAAAAAAIYsZCELWQJAiUFg5dAi6z+QwvUoXI/aP7GMPIiy0fU/y2T+lzHL7D+EeLvq3iHlP1qNwPMmWhJAZ7d3dntnFEAOCKvcy3APQFMDAu2cm/4/",
          "dtype": "f8"
         },
         "yaxis": "y"
        },
        {
         "hovertemplate": "Nombre del Departamento=HUILA<br>Year=%{x}<br>Porcentaje excedencias limite actual=%{y}<extra></extra>",
         "legendgroup": "HUILA",
         "line": {
          "color": "#19d3f3",
          "dash": "solid"
         },
         "marker": {
          "symbol": "circle"
         },
         "mode": "lines",
         "name": "HUILA",
         "orientation": "v",
         "showlegend": true,
         "type": "scatter",
         "x": {
          "bdata": "2wfcB90H3gffB+AH4QfiB+MH5AflB+YH",
          "dtype": "i2"
         },
         "xaxis": "x",
         "y": {
          "bdata": "AAAAAAAAAAAAAAAAAAAAAAAAAAAAAAAAAAAAAAAAAAAAAAAAAAAAAAAAAAAAAAAAAAAAAAAAAAAAAAAAAAAAAAAAAAAAAAAAAAAAAAAAAAAAAAAAAAAAAAAAAAAAAAAA",
          "dtype": "f8"
         },
         "yaxis": "y"
        },
        {
         "hovertemplate": "Nombre del Departamento=LA GUAJIRA<br>Year=%{x}<br>Porcentaje excedencias limite actual=%{y}<extra></extra>",
         "legendgroup": "LA GUAJIRA",
         "line": {
          "color": "#FF6692",
          "dash": "solid"
         },
         "marker": {
          "symbol": "circle"
         },
         "mode": "lines",
         "name": "LA GUAJIRA",
         "orientation": "v",
         "showlegend": true,
         "type": "scatter",
         "x": {
          "bdata": "2wfcB90H3gffB+AH4QfiB+MH5AflB+YH",
          "dtype": "i2"
         },
         "xaxis": "x",
         "y": {
          "bdata": "kML1KFyP3j9r4lnRSMDrP4XrUbgehdo/XI/C9Shc4D+PwvUoXA/tP5KOT19bHBNA2m/Kcwlk7T8AAAAAAAAAAFD6pE/6pPc/9ihcj8L15D8AAAAAAAAAAB6F61G4Hsk/",
          "dtype": "f8"
         },
         "yaxis": "y"
        },
        {
         "hovertemplate": "Nombre del Departamento=MAGDALENA<br>Year=%{x}<br>Porcentaje excedencias limite actual=%{y}<extra></extra>",
         "legendgroup": "MAGDALENA",
         "line": {
          "color": "#B6E880",
          "dash": "solid"
         },
         "marker": {
          "symbol": "circle"
         },
         "mode": "lines",
         "name": "MAGDALENA",
         "orientation": "v",
         "showlegend": true,
         "type": "scatter",
         "x": {
          "bdata": "2wfcB90H3gffB+AH4QfiB+MH5AflB+YH",
          "dtype": "i2"
         },
         "xaxis": "x",
         "y": {
          "bdata": "AAAAAAAAAAAAAAAAAAAAAClcj8L1KKw/2s73U+Ol8z8jGSeScSL1P3GwoKTj0+c/23QOqEHb9D8mwoanV8rqPzeJQWDl0BVAXyz5xZJfJ0AJJvo7Wa0UQKzuHRJVhPA/",
          "dtype": "f8"
         },
         "yaxis": "y"
        },
        {
         "hovertemplate": "Nombre del Departamento=QUINDIO<br>Year=%{x}<br>Porcentaje excedencias limite actual=%{y}<extra></extra>",
         "legendgroup": "QUINDIO",
         "line": {
          "color": "#FF97FF",
          "dash": "solid"
         },
         "marker": {
          "symbol": "circle"
         },
         "mode": "lines",
         "name": "QUINDIO",
         "orientation": "v",
         "showlegend": true,
         "type": "scatter",
         "x": {
          "bdata": "2wfcB90H3gffB+AH4QfiB+MH5AflB+YH",
          "dtype": "i2"
         },
         "xaxis": "x",
         "y": {
          "bdata": "AAAAAAAAAAAAAAAAAAAAAAAAAAAAAAAAAAAAAAAAAAAAAAAAAAAAAAAAAAAAAAAAAAAAAAAAAAAAAAAAAAAAAAAAAAAAAAAAAAAAAAAAAAAAAAAAAAAAAAAAAAAAAAAA",
          "dtype": "f8"
         },
         "yaxis": "y"
        },
        {
         "hovertemplate": "Nombre del Departamento=RISARALDA<br>Year=%{x}<br>Porcentaje excedencias limite actual=%{y}<extra></extra>",
         "legendgroup": "RISARALDA",
         "line": {
          "color": "#FECB52",
          "dash": "solid"
         },
         "marker": {
          "symbol": "circle"
         },
         "mode": "lines",
         "name": "RISARALDA",
         "orientation": "v",
         "showlegend": true,
         "type": "scatter",
         "x": {
          "bdata": "2wfcB90H3gffB+AH4QfiB+MH5AflB+YH",
          "dtype": "i2"
         },
         "xaxis": "x",
         "y": {
          "bdata": "xks3iUFg1T/VQR3UQR34PwAAAAAAAAAAzczMzMzM7D8AAAAAAAAAAAAAAAAAAAAAhetRuB6F8z8fhetRuF4ZQOF6FK5HYQZAqvHSTWIQuD+8mnhWNBLAPxKDwMqhRbY/",
          "dtype": "f8"
         },
         "yaxis": "y"
        },
        {
         "hovertemplate": "Nombre del Departamento=SANTANDER<br>Year=%{x}<br>Porcentaje excedencias limite actual=%{y}<extra></extra>",
         "legendgroup": "SANTANDER",
         "line": {
          "color": "#636efa",
          "dash": "solid"
         },
         "marker": {
          "symbol": "circle"
         },
         "mode": "lines",
         "name": "SANTANDER",
         "orientation": "v",
         "showlegend": true,
         "type": "scatter",
         "x": {
          "bdata": "2wfcB90H3gffB+AH4QfiB+MH5AflB+YH",
          "dtype": "i2"
         },
         "xaxis": "x",
         "y": {
          "bdata": "aezT3PBdoz/FjzF3LSGvPwAAAAAAAAAAAAAAAAAAAAAAAAAAAAAAAFyPwvUoXOM/FK5H4XoU1j9W9w6JKkLcPyir5Y0RzAhAF3qhF3ohJkC5E8TJJNXKP1IrtVIrtaI/",
          "dtype": "f8"
         },
         "yaxis": "y"
        },
        {
         "hovertemplate": "Nombre del Departamento=TOLIMA<br>Year=%{x}<br>Porcentaje excedencias limite actual=%{y}<extra></extra>",
         "legendgroup": "TOLIMA",
         "line": {
          "color": "#EF553B",
          "dash": "solid"
         },
         "marker": {
          "symbol": "circle"
         },
         "mode": "lines",
         "name": "TOLIMA",
         "orientation": "v",
         "showlegend": true,
         "type": "scatter",
         "x": {
          "bdata": "2wfcB90H3gffB+AH4QfiB+MH5AflB+YH",
          "dtype": "i2"
         },
         "xaxis": "x",
         "y": {
          "bdata": "AAAAAAAAAAAAAAAAAAAAAAAAAAAAAAAAAAAAAAAAAAAAAAAAAAAAAAAAAAAAAAAAAAAAAAAAAAAAAAAAAAAAAAAAAAAAAAAAAAAAAAAAAAAAAAAAAAAAAAAAAAAAAAAA",
          "dtype": "f8"
         },
         "yaxis": "y"
        },
        {
         "hovertemplate": "Nombre del Departamento=VALLE DEL CAUCA<br>Year=%{x}<br>Porcentaje excedencias limite actual=%{y}<extra></extra>",
         "legendgroup": "VALLE DEL CAUCA",
         "line": {
          "color": "#00cc96",
          "dash": "solid"
         },
         "marker": {
          "symbol": "circle"
         },
         "mode": "lines",
         "name": "VALLE DEL CAUCA",
         "orientation": "v",
         "showlegend": true,
         "type": "scatter",
         "x": {
          "bdata": "2wfcB90H3gffB+AH4QfiB+MH5AflB+YH",
          "dtype": "i2"
         },
         "xaxis": "x",
         "y": {
          "bdata": "ZmZmZmZmlj9jtzl2m2PvP7gehetROPk/ilKmKGWKsj9uf5ChssPiP0vvDDhIjug/wCjV5HFn2T9Yv9bmgcwRQAO8BRIUPxxATdd0Tdf0FEDQvZW7UGABQDNq/4UiHv8/",
          "dtype": "f8"
         },
         "yaxis": "y"
        }
       ],
       "layout": {
        "legend": {
         "title": {
          "text": "Nombre del Departamento"
         },
         "tracegroupgap": 0
        },
        "margin": {
         "t": 60
        },
        "template": {
         "data": {
          "bar": [
           {
            "error_x": {
             "color": "#2a3f5f"
            },
            "error_y": {
             "color": "#2a3f5f"
            },
            "marker": {
             "line": {
              "color": "white",
              "width": 0.5
             },
             "pattern": {
              "fillmode": "overlay",
              "size": 10,
              "solidity": 0.2
             }
            },
            "type": "bar"
           }
          ],
          "barpolar": [
           {
            "marker": {
             "line": {
              "color": "white",
              "width": 0.5
             },
             "pattern": {
              "fillmode": "overlay",
              "size": 10,
              "solidity": 0.2
             }
            },
            "type": "barpolar"
           }
          ],
          "carpet": [
           {
            "aaxis": {
             "endlinecolor": "#2a3f5f",
             "gridcolor": "#C8D4E3",
             "linecolor": "#C8D4E3",
             "minorgridcolor": "#C8D4E3",
             "startlinecolor": "#2a3f5f"
            },
            "baxis": {
             "endlinecolor": "#2a3f5f",
             "gridcolor": "#C8D4E3",
             "linecolor": "#C8D4E3",
             "minorgridcolor": "#C8D4E3",
             "startlinecolor": "#2a3f5f"
            },
            "type": "carpet"
           }
          ],
          "choropleth": [
           {
            "colorbar": {
             "outlinewidth": 0,
             "ticks": ""
            },
            "type": "choropleth"
           }
          ],
          "contour": [
           {
            "colorbar": {
             "outlinewidth": 0,
             "ticks": ""
            },
            "colorscale": [
             [
              0,
              "#0d0887"
             ],
             [
              0.1111111111111111,
              "#46039f"
             ],
             [
              0.2222222222222222,
              "#7201a8"
             ],
             [
              0.3333333333333333,
              "#9c179e"
             ],
             [
              0.4444444444444444,
              "#bd3786"
             ],
             [
              0.5555555555555556,
              "#d8576b"
             ],
             [
              0.6666666666666666,
              "#ed7953"
             ],
             [
              0.7777777777777778,
              "#fb9f3a"
             ],
             [
              0.8888888888888888,
              "#fdca26"
             ],
             [
              1,
              "#f0f921"
             ]
            ],
            "type": "contour"
           }
          ],
          "contourcarpet": [
           {
            "colorbar": {
             "outlinewidth": 0,
             "ticks": ""
            },
            "type": "contourcarpet"
           }
          ],
          "heatmap": [
           {
            "colorbar": {
             "outlinewidth": 0,
             "ticks": ""
            },
            "colorscale": [
             [
              0,
              "#0d0887"
             ],
             [
              0.1111111111111111,
              "#46039f"
             ],
             [
              0.2222222222222222,
              "#7201a8"
             ],
             [
              0.3333333333333333,
              "#9c179e"
             ],
             [
              0.4444444444444444,
              "#bd3786"
             ],
             [
              0.5555555555555556,
              "#d8576b"
             ],
             [
              0.6666666666666666,
              "#ed7953"
             ],
             [
              0.7777777777777778,
              "#fb9f3a"
             ],
             [
              0.8888888888888888,
              "#fdca26"
             ],
             [
              1,
              "#f0f921"
             ]
            ],
            "type": "heatmap"
           }
          ],
          "histogram": [
           {
            "marker": {
             "pattern": {
              "fillmode": "overlay",
              "size": 10,
              "solidity": 0.2
             }
            },
            "type": "histogram"
           }
          ],
          "histogram2d": [
           {
            "colorbar": {
             "outlinewidth": 0,
             "ticks": ""
            },
            "colorscale": [
             [
              0,
              "#0d0887"
             ],
             [
              0.1111111111111111,
              "#46039f"
             ],
             [
              0.2222222222222222,
              "#7201a8"
             ],
             [
              0.3333333333333333,
              "#9c179e"
             ],
             [
              0.4444444444444444,
              "#bd3786"
             ],
             [
              0.5555555555555556,
              "#d8576b"
             ],
             [
              0.6666666666666666,
              "#ed7953"
             ],
             [
              0.7777777777777778,
              "#fb9f3a"
             ],
             [
              0.8888888888888888,
              "#fdca26"
             ],
             [
              1,
              "#f0f921"
             ]
            ],
            "type": "histogram2d"
           }
          ],
          "histogram2dcontour": [
           {
            "colorbar": {
             "outlinewidth": 0,
             "ticks": ""
            },
            "colorscale": [
             [
              0,
              "#0d0887"
             ],
             [
              0.1111111111111111,
              "#46039f"
             ],
             [
              0.2222222222222222,
              "#7201a8"
             ],
             [
              0.3333333333333333,
              "#9c179e"
             ],
             [
              0.4444444444444444,
              "#bd3786"
             ],
             [
              0.5555555555555556,
              "#d8576b"
             ],
             [
              0.6666666666666666,
              "#ed7953"
             ],
             [
              0.7777777777777778,
              "#fb9f3a"
             ],
             [
              0.8888888888888888,
              "#fdca26"
             ],
             [
              1,
              "#f0f921"
             ]
            ],
            "type": "histogram2dcontour"
           }
          ],
          "mesh3d": [
           {
            "colorbar": {
             "outlinewidth": 0,
             "ticks": ""
            },
            "type": "mesh3d"
           }
          ],
          "parcoords": [
           {
            "line": {
             "colorbar": {
              "outlinewidth": 0,
              "ticks": ""
             }
            },
            "type": "parcoords"
           }
          ],
          "pie": [
           {
            "automargin": true,
            "type": "pie"
           }
          ],
          "scatter": [
           {
            "fillpattern": {
             "fillmode": "overlay",
             "size": 10,
             "solidity": 0.2
            },
            "type": "scatter"
           }
          ],
          "scatter3d": [
           {
            "line": {
             "colorbar": {
              "outlinewidth": 0,
              "ticks": ""
             }
            },
            "marker": {
             "colorbar": {
              "outlinewidth": 0,
              "ticks": ""
             }
            },
            "type": "scatter3d"
           }
          ],
          "scattercarpet": [
           {
            "marker": {
             "colorbar": {
              "outlinewidth": 0,
              "ticks": ""
             }
            },
            "type": "scattercarpet"
           }
          ],
          "scattergeo": [
           {
            "marker": {
             "colorbar": {
              "outlinewidth": 0,
              "ticks": ""
             }
            },
            "type": "scattergeo"
           }
          ],
          "scattergl": [
           {
            "marker": {
             "colorbar": {
              "outlinewidth": 0,
              "ticks": ""
             }
            },
            "type": "scattergl"
           }
          ],
          "scattermap": [
           {
            "marker": {
             "colorbar": {
              "outlinewidth": 0,
              "ticks": ""
             }
            },
            "type": "scattermap"
           }
          ],
          "scattermapbox": [
           {
            "marker": {
             "colorbar": {
              "outlinewidth": 0,
              "ticks": ""
             }
            },
            "type": "scattermapbox"
           }
          ],
          "scatterpolar": [
           {
            "marker": {
             "colorbar": {
              "outlinewidth": 0,
              "ticks": ""
             }
            },
            "type": "scatterpolar"
           }
          ],
          "scatterpolargl": [
           {
            "marker": {
             "colorbar": {
              "outlinewidth": 0,
              "ticks": ""
             }
            },
            "type": "scatterpolargl"
           }
          ],
          "scatterternary": [
           {
            "marker": {
             "colorbar": {
              "outlinewidth": 0,
              "ticks": ""
             }
            },
            "type": "scatterternary"
           }
          ],
          "surface": [
           {
            "colorbar": {
             "outlinewidth": 0,
             "ticks": ""
            },
            "colorscale": [
             [
              0,
              "#0d0887"
             ],
             [
              0.1111111111111111,
              "#46039f"
             ],
             [
              0.2222222222222222,
              "#7201a8"
             ],
             [
              0.3333333333333333,
              "#9c179e"
             ],
             [
              0.4444444444444444,
              "#bd3786"
             ],
             [
              0.5555555555555556,
              "#d8576b"
             ],
             [
              0.6666666666666666,
              "#ed7953"
             ],
             [
              0.7777777777777778,
              "#fb9f3a"
             ],
             [
              0.8888888888888888,
              "#fdca26"
             ],
             [
              1,
              "#f0f921"
             ]
            ],
            "type": "surface"
           }
          ],
          "table": [
           {
            "cells": {
             "fill": {
              "color": "#EBF0F8"
             },
             "line": {
              "color": "white"
             }
            },
            "header": {
             "fill": {
              "color": "#C8D4E3"
             },
             "line": {
              "color": "white"
             }
            },
            "type": "table"
           }
          ]
         },
         "layout": {
          "annotationdefaults": {
           "arrowcolor": "#2a3f5f",
           "arrowhead": 0,
           "arrowwidth": 1
          },
          "autotypenumbers": "strict",
          "coloraxis": {
           "colorbar": {
            "outlinewidth": 0,
            "ticks": ""
           }
          },
          "colorscale": {
           "diverging": [
            [
             0,
             "#8e0152"
            ],
            [
             0.1,
             "#c51b7d"
            ],
            [
             0.2,
             "#de77ae"
            ],
            [
             0.3,
             "#f1b6da"
            ],
            [
             0.4,
             "#fde0ef"
            ],
            [
             0.5,
             "#f7f7f7"
            ],
            [
             0.6,
             "#e6f5d0"
            ],
            [
             0.7,
             "#b8e186"
            ],
            [
             0.8,
             "#7fbc41"
            ],
            [
             0.9,
             "#4d9221"
            ],
            [
             1,
             "#276419"
            ]
           ],
           "sequential": [
            [
             0,
             "#0d0887"
            ],
            [
             0.1111111111111111,
             "#46039f"
            ],
            [
             0.2222222222222222,
             "#7201a8"
            ],
            [
             0.3333333333333333,
             "#9c179e"
            ],
            [
             0.4444444444444444,
             "#bd3786"
            ],
            [
             0.5555555555555556,
             "#d8576b"
            ],
            [
             0.6666666666666666,
             "#ed7953"
            ],
            [
             0.7777777777777778,
             "#fb9f3a"
            ],
            [
             0.8888888888888888,
             "#fdca26"
            ],
            [
             1,
             "#f0f921"
            ]
           ],
           "sequentialminus": [
            [
             0,
             "#0d0887"
            ],
            [
             0.1111111111111111,
             "#46039f"
            ],
            [
             0.2222222222222222,
             "#7201a8"
            ],
            [
             0.3333333333333333,
             "#9c179e"
            ],
            [
             0.4444444444444444,
             "#bd3786"
            ],
            [
             0.5555555555555556,
             "#d8576b"
            ],
            [
             0.6666666666666666,
             "#ed7953"
            ],
            [
             0.7777777777777778,
             "#fb9f3a"
            ],
            [
             0.8888888888888888,
             "#fdca26"
            ],
            [
             1,
             "#f0f921"
            ]
           ]
          },
          "colorway": [
           "#636efa",
           "#EF553B",
           "#00cc96",
           "#ab63fa",
           "#FFA15A",
           "#19d3f3",
           "#FF6692",
           "#B6E880",
           "#FF97FF",
           "#FECB52"
          ],
          "font": {
           "color": "#2a3f5f"
          },
          "geo": {
           "bgcolor": "white",
           "lakecolor": "white",
           "landcolor": "white",
           "showlakes": true,
           "showland": true,
           "subunitcolor": "#C8D4E3"
          },
          "hoverlabel": {
           "align": "left"
          },
          "hovermode": "closest",
          "mapbox": {
           "style": "light"
          },
          "paper_bgcolor": "white",
          "plot_bgcolor": "white",
          "polar": {
           "angularaxis": {
            "gridcolor": "#EBF0F8",
            "linecolor": "#EBF0F8",
            "ticks": ""
           },
           "bgcolor": "white",
           "radialaxis": {
            "gridcolor": "#EBF0F8",
            "linecolor": "#EBF0F8",
            "ticks": ""
           }
          },
          "scene": {
           "xaxis": {
            "backgroundcolor": "white",
            "gridcolor": "#DFE8F3",
            "gridwidth": 2,
            "linecolor": "#EBF0F8",
            "showbackground": true,
            "ticks": "",
            "zerolinecolor": "#EBF0F8"
           },
           "yaxis": {
            "backgroundcolor": "white",
            "gridcolor": "#DFE8F3",
            "gridwidth": 2,
            "linecolor": "#EBF0F8",
            "showbackground": true,
            "ticks": "",
            "zerolinecolor": "#EBF0F8"
           },
           "zaxis": {
            "backgroundcolor": "white",
            "gridcolor": "#DFE8F3",
            "gridwidth": 2,
            "linecolor": "#EBF0F8",
            "showbackground": true,
            "ticks": "",
            "zerolinecolor": "#EBF0F8"
           }
          },
          "shapedefaults": {
           "line": {
            "color": "#2a3f5f"
           }
          },
          "ternary": {
           "aaxis": {
            "gridcolor": "#DFE8F3",
            "linecolor": "#A2B1C6",
            "ticks": ""
           },
           "baxis": {
            "gridcolor": "#DFE8F3",
            "linecolor": "#A2B1C6",
            "ticks": ""
           },
           "bgcolor": "white",
           "caxis": {
            "gridcolor": "#DFE8F3",
            "linecolor": "#A2B1C6",
            "ticks": ""
           }
          },
          "title": {
           "x": 0.05
          },
          "xaxis": {
           "automargin": true,
           "gridcolor": "#EBF0F8",
           "linecolor": "#EBF0F8",
           "ticks": "",
           "title": {
            "standoff": 15
           },
           "zerolinecolor": "#EBF0F8",
           "zerolinewidth": 2
          },
          "yaxis": {
           "automargin": true,
           "gridcolor": "#EBF0F8",
           "linecolor": "#EBF0F8",
           "ticks": "",
           "title": {
            "standoff": 15
           },
           "zerolinecolor": "#EBF0F8",
           "zerolinewidth": 2
          }
         }
        },
        "xaxis": {
         "anchor": "y",
         "domain": [
          0,
          1
         ],
         "title": {
          "text": "Year"
         }
        },
        "yaxis": {
         "anchor": "x",
         "domain": [
          0,
          1
         ],
         "title": {
          "text": "Porcentaje excedencias limite actual"
         }
        }
       }
      }
     },
     "metadata": {},
     "output_type": "display_data"
    }
   ],
   "source": [
    "#Agrupamos por año y calculamos el promedio general de excedencias por departamento, sin importar el contaminante\n",
    "excedencias_por_dep = df_contaminantes.groupby(['Year', 'Nombre del Departamento'])['Porcentaje excedencias limite actual'].mean().reset_index()\n",
    "\n",
    "# Graficamos los porcentajes de excedencias por año y departamento, sin importar el contaminante\n",
    "lista_municipios = excedencias_por_dep['Nombre del Departamento'].unique()\n",
    "grafica = excedencias_por_dep.query(\"`Nombre del Departamento` in @lista_municipios\")\n",
    "fig = px.line(grafica, x=\"Year\", y=\"Porcentaje excedencias limite actual\", color='Nombre del Departamento', template='plotly_white')\n",
    "fig.show()"
   ]
  },
  {
   "cell_type": "markdown",
   "id": "40d122c8",
   "metadata": {},
   "source": [
    "El comportamiento por departamento refuerza el hallazgo nacional: **varias regiones experimentaron en 2020 sus valores más altos de excedencia**, incluso por encima de años como 2016, que previamente había mostrado señales de deterioro en la calidad del aire. Este patrón se evidenció en:\n",
    "- **Cundinamarca**, que alcanzó su pico en 2020 con 5.10%, superando los valores registrados en 2013 (2.29%) y 2019 (4.59%).\n",
    "- **Cesar**, con un aumento hasta 5.82% en 2020, luego de picos menores en 2012 (2.78%) y 2016 (3.05%).\n",
    "- **Santander** y **Magdalena**, con un alarmante 11% de días en excedencia en 2020, sin antecedentes similares en años previos.\n",
    "- **Antioquia**, que también experimentó su mayor valor ese año (5.33%) a pesar de un comportamiento más moderado en años anteriores.\n",
    "- **Valle del Cauca**, con un repunte en 2019 (7%) que dio paso a una estabilización, aunque el nivel en 2020 siguió siendo alto.\n",
    "- **Risaralda**, aunque tuvo su pico en 2018 (6.34%), no presentó mejoras destacables hasta después del 2020.  \n",
    "\n",
    "En contraste, departamentos como **Huila**, **Tolima** y **Quindío** se mantuvieron en 0% de excedencias a lo largo de todo el periodo 2011–2022, lo cual puede responder a factores estructurales, menor presión urbana o posibles vacíos de monitoreo.  \n",
    "\n",
    "Estos resultados evidencian que, aunque las dinámicas nacionales pueden sugerir un comportamiento agregado homogéneo, **el impacto real varió significativamente según las condiciones locales de cada territorio**. La presencia de fuentes fijas (industria, minería), sumada a condiciones atmosféricas desfavorables en ciertas zonas, influyó de forma dispar en el comportamiento departamental de las excedencias. Además, la mejora observada entre 2021 y 2022 en la mayoría de los departamentos sugiere un cambio positivo, aunque no necesariamente sostenido o estructural."
   ]
  },
  {
   "cell_type": "markdown",
   "id": "31a550d1",
   "metadata": {},
   "source": [
    "### ¿Hay correlación entre contaminantes atmosfericos?"
   ]
  },
  {
   "cell_type": "code",
   "execution_count": 14,
   "id": "710ffcf3",
   "metadata": {},
   "outputs": [
    {
     "data": {
      "text/html": [
       "<div>\n",
       "<style scoped>\n",
       "    .dataframe tbody tr th:only-of-type {\n",
       "        vertical-align: middle;\n",
       "    }\n",
       "\n",
       "    .dataframe tbody tr th {\n",
       "        vertical-align: top;\n",
       "    }\n",
       "\n",
       "    .dataframe thead th {\n",
       "        text-align: right;\n",
       "    }\n",
       "</style>\n",
       "<table border=\"1\" class=\"dataframe\">\n",
       "  <thead>\n",
       "    <tr style=\"text-align: right;\">\n",
       "      <th></th>\n",
       "      <th>CO</th>\n",
       "      <th>NO</th>\n",
       "      <th>NO2</th>\n",
       "      <th>O3</th>\n",
       "      <th>PM10</th>\n",
       "      <th>PM2.5</th>\n",
       "      <th>PST</th>\n",
       "      <th>SO2</th>\n",
       "    </tr>\n",
       "  </thead>\n",
       "  <tbody>\n",
       "    <tr>\n",
       "      <th>0</th>\n",
       "      <td>1157.300000</td>\n",
       "      <td>30.800000</td>\n",
       "      <td>31.011111</td>\n",
       "      <td>29.387363</td>\n",
       "      <td>38.966667</td>\n",
       "      <td>19.708571</td>\n",
       "      <td>71.310000</td>\n",
       "      <td>15.521212</td>\n",
       "    </tr>\n",
       "    <tr>\n",
       "      <th>1</th>\n",
       "      <td>602.522222</td>\n",
       "      <td>4.677778</td>\n",
       "      <td>16.741667</td>\n",
       "      <td>20.066667</td>\n",
       "      <td>39.190909</td>\n",
       "      <td>17.179688</td>\n",
       "      <td>27.650000</td>\n",
       "      <td>13.793000</td>\n",
       "    </tr>\n",
       "    <tr>\n",
       "      <th>2</th>\n",
       "      <td>1031.600000</td>\n",
       "      <td>NaN</td>\n",
       "      <td>NaN</td>\n",
       "      <td>28.200000</td>\n",
       "      <td>26.587037</td>\n",
       "      <td>15.860000</td>\n",
       "      <td>76.952941</td>\n",
       "      <td>6.250000</td>\n",
       "    </tr>\n",
       "    <tr>\n",
       "      <th>3</th>\n",
       "      <td>NaN</td>\n",
       "      <td>NaN</td>\n",
       "      <td>NaN</td>\n",
       "      <td>NaN</td>\n",
       "      <td>37.144500</td>\n",
       "      <td>14.650000</td>\n",
       "      <td>81.827536</td>\n",
       "      <td>NaN</td>\n",
       "    </tr>\n",
       "    <tr>\n",
       "      <th>4</th>\n",
       "      <td>666.345000</td>\n",
       "      <td>34.233333</td>\n",
       "      <td>20.771028</td>\n",
       "      <td>21.333333</td>\n",
       "      <td>37.768571</td>\n",
       "      <td>15.785135</td>\n",
       "      <td>68.006522</td>\n",
       "      <td>11.775926</td>\n",
       "    </tr>\n",
       "    <tr>\n",
       "      <th>5</th>\n",
       "      <td>NaN</td>\n",
       "      <td>NaN</td>\n",
       "      <td>NaN</td>\n",
       "      <td>NaN</td>\n",
       "      <td>18.931818</td>\n",
       "      <td>13.900000</td>\n",
       "      <td>NaN</td>\n",
       "      <td>NaN</td>\n",
       "    </tr>\n",
       "    <tr>\n",
       "      <th>6</th>\n",
       "      <td>NaN</td>\n",
       "      <td>NaN</td>\n",
       "      <td>NaN</td>\n",
       "      <td>NaN</td>\n",
       "      <td>35.993284</td>\n",
       "      <td>10.500000</td>\n",
       "      <td>75.788000</td>\n",
       "      <td>NaN</td>\n",
       "    </tr>\n",
       "    <tr>\n",
       "      <th>7</th>\n",
       "      <td>470.168182</td>\n",
       "      <td>2.933333</td>\n",
       "      <td>9.144444</td>\n",
       "      <td>31.325000</td>\n",
       "      <td>38.074590</td>\n",
       "      <td>12.208000</td>\n",
       "      <td>70.421277</td>\n",
       "      <td>5.913333</td>\n",
       "    </tr>\n",
       "    <tr>\n",
       "      <th>8</th>\n",
       "      <td>NaN</td>\n",
       "      <td>NaN</td>\n",
       "      <td>NaN</td>\n",
       "      <td>NaN</td>\n",
       "      <td>19.878947</td>\n",
       "      <td>NaN</td>\n",
       "      <td>NaN</td>\n",
       "      <td>NaN</td>\n",
       "    </tr>\n",
       "    <tr>\n",
       "      <th>9</th>\n",
       "      <td>NaN</td>\n",
       "      <td>NaN</td>\n",
       "      <td>NaN</td>\n",
       "      <td>NaN</td>\n",
       "      <td>28.797826</td>\n",
       "      <td>16.700000</td>\n",
       "      <td>30.750000</td>\n",
       "      <td>NaN</td>\n",
       "    </tr>\n",
       "    <tr>\n",
       "      <th>10</th>\n",
       "      <td>1480.550000</td>\n",
       "      <td>21.693750</td>\n",
       "      <td>25.008571</td>\n",
       "      <td>23.623333</td>\n",
       "      <td>37.103390</td>\n",
       "      <td>14.842553</td>\n",
       "      <td>NaN</td>\n",
       "      <td>6.646341</td>\n",
       "    </tr>\n",
       "    <tr>\n",
       "      <th>11</th>\n",
       "      <td>NaN</td>\n",
       "      <td>NaN</td>\n",
       "      <td>NaN</td>\n",
       "      <td>NaN</td>\n",
       "      <td>28.661111</td>\n",
       "      <td>NaN</td>\n",
       "      <td>NaN</td>\n",
       "      <td>NaN</td>\n",
       "    </tr>\n",
       "    <tr>\n",
       "      <th>12</th>\n",
       "      <td>946.038889</td>\n",
       "      <td>6.375000</td>\n",
       "      <td>14.170370</td>\n",
       "      <td>27.124211</td>\n",
       "      <td>42.018584</td>\n",
       "      <td>16.808333</td>\n",
       "      <td>NaN</td>\n",
       "      <td>8.113043</td>\n",
       "    </tr>\n",
       "  </tbody>\n",
       "</table>\n",
       "</div>"
      ],
      "text/plain": [
       "             CO         NO        NO2         O3       PM10      PM2.5  \\\n",
       "0   1157.300000  30.800000  31.011111  29.387363  38.966667  19.708571   \n",
       "1    602.522222   4.677778  16.741667  20.066667  39.190909  17.179688   \n",
       "2   1031.600000        NaN        NaN  28.200000  26.587037  15.860000   \n",
       "3           NaN        NaN        NaN        NaN  37.144500  14.650000   \n",
       "4    666.345000  34.233333  20.771028  21.333333  37.768571  15.785135   \n",
       "5           NaN        NaN        NaN        NaN  18.931818  13.900000   \n",
       "6           NaN        NaN        NaN        NaN  35.993284  10.500000   \n",
       "7    470.168182   2.933333   9.144444  31.325000  38.074590  12.208000   \n",
       "8           NaN        NaN        NaN        NaN  19.878947        NaN   \n",
       "9           NaN        NaN        NaN        NaN  28.797826  16.700000   \n",
       "10  1480.550000  21.693750  25.008571  23.623333  37.103390  14.842553   \n",
       "11          NaN        NaN        NaN        NaN  28.661111        NaN   \n",
       "12   946.038889   6.375000  14.170370  27.124211  42.018584  16.808333   \n",
       "\n",
       "          PST        SO2  \n",
       "0   71.310000  15.521212  \n",
       "1   27.650000  13.793000  \n",
       "2   76.952941   6.250000  \n",
       "3   81.827536        NaN  \n",
       "4   68.006522  11.775926  \n",
       "5         NaN        NaN  \n",
       "6   75.788000        NaN  \n",
       "7   70.421277   5.913333  \n",
       "8         NaN        NaN  \n",
       "9   30.750000        NaN  \n",
       "10        NaN   6.646341  \n",
       "11        NaN        NaN  \n",
       "12        NaN   8.113043  "
      ]
     },
     "execution_count": 14,
     "metadata": {},
     "output_type": "execute_result"
    }
   ],
   "source": [
    "# Vamos a probar si hay relación entre nuestros contaminantes atmosfericos \n",
    "\n",
    "# Reescribimos nuestros datos (Creamos un dataset de solo las columnas que usaremos y los agrupamos por departamento y variables)\n",
    "contaminantes_y_variables = df_dep[['Nombre del Departamento', 'Variable', 'Promedio']].groupby(['Nombre del Departamento', \n",
    "                                                                                                  'Variable'])['Promedio'].mean().reset_index()\n",
    "\n",
    "# Obtenemos las variables unicas presentadas en los distintos departamentos\n",
    "variable_contaminantes = contaminantes_y_variables['Variable'].unique()\n",
    "\n",
    "# Creamos un dataset base con los municipios unicos\n",
    "df_corr_dep = contaminantes_y_variables[['Nombre del Departamento']].drop_duplicates()\n",
    "\n",
    "# Iterar sobre cada variable y unirla al DataFrame base\n",
    "for var in variable_contaminantes:\n",
    "    variables = contaminantes_y_variables[contaminantes_y_variables['Variable'] == var].copy()\n",
    "    variables.rename(columns={\"Promedio\": var}, inplace=True)\n",
    "    variables.drop(columns=[\"Variable\"], inplace=True)\n",
    "    df_corr_dep = pd.merge(df_corr_dep, variables, on='Nombre del Departamento', how='left')\n",
    "\n",
    "# Eliminamos las columnas a no usar\n",
    "df_corr = df_corr_dep.drop(['Nombre del Departamento', 'DViento', 'HAire', 'HAire10', 'P', 'RGlobal', \n",
    "                            'TAire', 'TAire10', 'TAire2', 'VViento', 'RUVb', 'HAire2', 'PLiquida'], axis=1)\n",
    "\n",
    "# Visualizamos nuestra nueva tabla para evaluar las correlaciones\n",
    "df_corr"
   ]
  },
  {
   "cell_type": "markdown",
   "id": "f986b5d5",
   "metadata": {},
   "source": [
    "Hay demasiados valores no nulos por ende no podemos eliminarlos, dado que puede afectar nuestros resultados. En este caso, aplicaremos el modelo predictivo KNN para reemplazar los valores nulos y evitar sesgos en nuestros resultados"
   ]
  },
  {
   "cell_type": "code",
   "execution_count": 15,
   "id": "c22690cc",
   "metadata": {},
   "outputs": [
    {
     "data": {
      "application/vnd.plotly.v1+json": {
       "config": {
        "plotlyServerURL": "https://plot.ly"
       },
       "data": [
        {
         "colorbar": {
          "title": {
           "text": "Correlación"
          }
         },
         "colorscale": [
          [
           0,
           "rgb(103,0,31)"
          ],
          [
           0.1,
           "rgb(178,24,43)"
          ],
          [
           0.2,
           "rgb(214,96,77)"
          ],
          [
           0.3,
           "rgb(244,165,130)"
          ],
          [
           0.4,
           "rgb(253,219,199)"
          ],
          [
           0.5,
           "rgb(247,247,247)"
          ],
          [
           0.6,
           "rgb(209,229,240)"
          ],
          [
           0.7,
           "rgb(146,197,222)"
          ],
          [
           0.8,
           "rgb(67,147,195)"
          ],
          [
           0.9,
           "rgb(33,102,172)"
          ],
          [
           1,
           "rgb(5,48,97)"
          ]
         ],
         "type": "heatmap",
         "x": [
          "CO",
          "NO",
          "NO2",
          "O3",
          "PM10",
          "PM2.5",
          "PST",
          "SO2"
         ],
         "y": [
          "CO",
          "NO",
          "NO2",
          "O3",
          "PM10",
          "PM2.5",
          "PST",
          "SO2"
         ],
         "z": {
          "bdata": "AAAAAAAA8D82zVeNo8TWP3/9/wZ3ieM/oTa7S/wNYz/uTdd7T1PQvx07vJ1WQ8o/9x2WyGruyT+tJiV1CKXGvzbNV42jxNY/AAAAAAAA8D9rEXQfehbpP27GnUOyd76/sYtBlhIUyr80eeoLq0rJPzmMPuwSbtg/tZh3Zfhn0z9//f8Gd4njP2sRdB96Fuk/AAAAAAAA8D/wWNNjITG1v0baQrdpH5u/1W6O5Q424T/FniemF1i7P9rNk8E5E+A/oTa7S/wNYz9uxp1Dsne+v/BY02MhMbW/AAAAAAAA8D/Jc39yyZG/PzG5FKQRN7q/N4JSo8w24z8wnYdKSh3Uv+5N13tPU9C/sYtBlhIUyr9G2kK3aR+bv8lzf3LJkb8/AAAAAAAA8D8W2xkatevCP8tIkc+Y+7I/tQZUOlWA0j8dO7ydVkPKPzR56gurSsk/1W6O5Q424T8xuRSkETe6vxbbGRq168I/AAAAAAAA8D+jxXPZvojWv5CTa6gqmOU/9x2WyGruyT85jD7sEm7YP8WeJ6YXWLs/N4JSo8w24z/LSJHPmPuyP6PFc9m+iNa/AAAAAAAA8D/X9NU+sPvYv60mJXUIpca/tZh3Zfhn0z/azZPBORPgPzCdh0pKHdS/tQZUOlWA0j+Qk2uoKpjlP9f01T6w+9i/AAAAAAAA8D8=",
          "dtype": "f8",
          "shape": "8, 8"
         },
         "zmax": 1,
         "zmin": -1
        }
       ],
       "layout": {
        "height": 700,
        "template": {
         "data": {
          "bar": [
           {
            "error_x": {
             "color": "#2a3f5f"
            },
            "error_y": {
             "color": "#2a3f5f"
            },
            "marker": {
             "line": {
              "color": "#E5ECF6",
              "width": 0.5
             },
             "pattern": {
              "fillmode": "overlay",
              "size": 10,
              "solidity": 0.2
             }
            },
            "type": "bar"
           }
          ],
          "barpolar": [
           {
            "marker": {
             "line": {
              "color": "#E5ECF6",
              "width": 0.5
             },
             "pattern": {
              "fillmode": "overlay",
              "size": 10,
              "solidity": 0.2
             }
            },
            "type": "barpolar"
           }
          ],
          "carpet": [
           {
            "aaxis": {
             "endlinecolor": "#2a3f5f",
             "gridcolor": "white",
             "linecolor": "white",
             "minorgridcolor": "white",
             "startlinecolor": "#2a3f5f"
            },
            "baxis": {
             "endlinecolor": "#2a3f5f",
             "gridcolor": "white",
             "linecolor": "white",
             "minorgridcolor": "white",
             "startlinecolor": "#2a3f5f"
            },
            "type": "carpet"
           }
          ],
          "choropleth": [
           {
            "colorbar": {
             "outlinewidth": 0,
             "ticks": ""
            },
            "type": "choropleth"
           }
          ],
          "contour": [
           {
            "colorbar": {
             "outlinewidth": 0,
             "ticks": ""
            },
            "colorscale": [
             [
              0,
              "#0d0887"
             ],
             [
              0.1111111111111111,
              "#46039f"
             ],
             [
              0.2222222222222222,
              "#7201a8"
             ],
             [
              0.3333333333333333,
              "#9c179e"
             ],
             [
              0.4444444444444444,
              "#bd3786"
             ],
             [
              0.5555555555555556,
              "#d8576b"
             ],
             [
              0.6666666666666666,
              "#ed7953"
             ],
             [
              0.7777777777777778,
              "#fb9f3a"
             ],
             [
              0.8888888888888888,
              "#fdca26"
             ],
             [
              1,
              "#f0f921"
             ]
            ],
            "type": "contour"
           }
          ],
          "contourcarpet": [
           {
            "colorbar": {
             "outlinewidth": 0,
             "ticks": ""
            },
            "type": "contourcarpet"
           }
          ],
          "heatmap": [
           {
            "colorbar": {
             "outlinewidth": 0,
             "ticks": ""
            },
            "colorscale": [
             [
              0,
              "#0d0887"
             ],
             [
              0.1111111111111111,
              "#46039f"
             ],
             [
              0.2222222222222222,
              "#7201a8"
             ],
             [
              0.3333333333333333,
              "#9c179e"
             ],
             [
              0.4444444444444444,
              "#bd3786"
             ],
             [
              0.5555555555555556,
              "#d8576b"
             ],
             [
              0.6666666666666666,
              "#ed7953"
             ],
             [
              0.7777777777777778,
              "#fb9f3a"
             ],
             [
              0.8888888888888888,
              "#fdca26"
             ],
             [
              1,
              "#f0f921"
             ]
            ],
            "type": "heatmap"
           }
          ],
          "histogram": [
           {
            "marker": {
             "pattern": {
              "fillmode": "overlay",
              "size": 10,
              "solidity": 0.2
             }
            },
            "type": "histogram"
           }
          ],
          "histogram2d": [
           {
            "colorbar": {
             "outlinewidth": 0,
             "ticks": ""
            },
            "colorscale": [
             [
              0,
              "#0d0887"
             ],
             [
              0.1111111111111111,
              "#46039f"
             ],
             [
              0.2222222222222222,
              "#7201a8"
             ],
             [
              0.3333333333333333,
              "#9c179e"
             ],
             [
              0.4444444444444444,
              "#bd3786"
             ],
             [
              0.5555555555555556,
              "#d8576b"
             ],
             [
              0.6666666666666666,
              "#ed7953"
             ],
             [
              0.7777777777777778,
              "#fb9f3a"
             ],
             [
              0.8888888888888888,
              "#fdca26"
             ],
             [
              1,
              "#f0f921"
             ]
            ],
            "type": "histogram2d"
           }
          ],
          "histogram2dcontour": [
           {
            "colorbar": {
             "outlinewidth": 0,
             "ticks": ""
            },
            "colorscale": [
             [
              0,
              "#0d0887"
             ],
             [
              0.1111111111111111,
              "#46039f"
             ],
             [
              0.2222222222222222,
              "#7201a8"
             ],
             [
              0.3333333333333333,
              "#9c179e"
             ],
             [
              0.4444444444444444,
              "#bd3786"
             ],
             [
              0.5555555555555556,
              "#d8576b"
             ],
             [
              0.6666666666666666,
              "#ed7953"
             ],
             [
              0.7777777777777778,
              "#fb9f3a"
             ],
             [
              0.8888888888888888,
              "#fdca26"
             ],
             [
              1,
              "#f0f921"
             ]
            ],
            "type": "histogram2dcontour"
           }
          ],
          "mesh3d": [
           {
            "colorbar": {
             "outlinewidth": 0,
             "ticks": ""
            },
            "type": "mesh3d"
           }
          ],
          "parcoords": [
           {
            "line": {
             "colorbar": {
              "outlinewidth": 0,
              "ticks": ""
             }
            },
            "type": "parcoords"
           }
          ],
          "pie": [
           {
            "automargin": true,
            "type": "pie"
           }
          ],
          "scatter": [
           {
            "fillpattern": {
             "fillmode": "overlay",
             "size": 10,
             "solidity": 0.2
            },
            "type": "scatter"
           }
          ],
          "scatter3d": [
           {
            "line": {
             "colorbar": {
              "outlinewidth": 0,
              "ticks": ""
             }
            },
            "marker": {
             "colorbar": {
              "outlinewidth": 0,
              "ticks": ""
             }
            },
            "type": "scatter3d"
           }
          ],
          "scattercarpet": [
           {
            "marker": {
             "colorbar": {
              "outlinewidth": 0,
              "ticks": ""
             }
            },
            "type": "scattercarpet"
           }
          ],
          "scattergeo": [
           {
            "marker": {
             "colorbar": {
              "outlinewidth": 0,
              "ticks": ""
             }
            },
            "type": "scattergeo"
           }
          ],
          "scattergl": [
           {
            "marker": {
             "colorbar": {
              "outlinewidth": 0,
              "ticks": ""
             }
            },
            "type": "scattergl"
           }
          ],
          "scattermap": [
           {
            "marker": {
             "colorbar": {
              "outlinewidth": 0,
              "ticks": ""
             }
            },
            "type": "scattermap"
           }
          ],
          "scattermapbox": [
           {
            "marker": {
             "colorbar": {
              "outlinewidth": 0,
              "ticks": ""
             }
            },
            "type": "scattermapbox"
           }
          ],
          "scatterpolar": [
           {
            "marker": {
             "colorbar": {
              "outlinewidth": 0,
              "ticks": ""
             }
            },
            "type": "scatterpolar"
           }
          ],
          "scatterpolargl": [
           {
            "marker": {
             "colorbar": {
              "outlinewidth": 0,
              "ticks": ""
             }
            },
            "type": "scatterpolargl"
           }
          ],
          "scatterternary": [
           {
            "marker": {
             "colorbar": {
              "outlinewidth": 0,
              "ticks": ""
             }
            },
            "type": "scatterternary"
           }
          ],
          "surface": [
           {
            "colorbar": {
             "outlinewidth": 0,
             "ticks": ""
            },
            "colorscale": [
             [
              0,
              "#0d0887"
             ],
             [
              0.1111111111111111,
              "#46039f"
             ],
             [
              0.2222222222222222,
              "#7201a8"
             ],
             [
              0.3333333333333333,
              "#9c179e"
             ],
             [
              0.4444444444444444,
              "#bd3786"
             ],
             [
              0.5555555555555556,
              "#d8576b"
             ],
             [
              0.6666666666666666,
              "#ed7953"
             ],
             [
              0.7777777777777778,
              "#fb9f3a"
             ],
             [
              0.8888888888888888,
              "#fdca26"
             ],
             [
              1,
              "#f0f921"
             ]
            ],
            "type": "surface"
           }
          ],
          "table": [
           {
            "cells": {
             "fill": {
              "color": "#EBF0F8"
             },
             "line": {
              "color": "white"
             }
            },
            "header": {
             "fill": {
              "color": "#C8D4E3"
             },
             "line": {
              "color": "white"
             }
            },
            "type": "table"
           }
          ]
         },
         "layout": {
          "annotationdefaults": {
           "arrowcolor": "#2a3f5f",
           "arrowhead": 0,
           "arrowwidth": 1
          },
          "autotypenumbers": "strict",
          "coloraxis": {
           "colorbar": {
            "outlinewidth": 0,
            "ticks": ""
           }
          },
          "colorscale": {
           "diverging": [
            [
             0,
             "#8e0152"
            ],
            [
             0.1,
             "#c51b7d"
            ],
            [
             0.2,
             "#de77ae"
            ],
            [
             0.3,
             "#f1b6da"
            ],
            [
             0.4,
             "#fde0ef"
            ],
            [
             0.5,
             "#f7f7f7"
            ],
            [
             0.6,
             "#e6f5d0"
            ],
            [
             0.7,
             "#b8e186"
            ],
            [
             0.8,
             "#7fbc41"
            ],
            [
             0.9,
             "#4d9221"
            ],
            [
             1,
             "#276419"
            ]
           ],
           "sequential": [
            [
             0,
             "#0d0887"
            ],
            [
             0.1111111111111111,
             "#46039f"
            ],
            [
             0.2222222222222222,
             "#7201a8"
            ],
            [
             0.3333333333333333,
             "#9c179e"
            ],
            [
             0.4444444444444444,
             "#bd3786"
            ],
            [
             0.5555555555555556,
             "#d8576b"
            ],
            [
             0.6666666666666666,
             "#ed7953"
            ],
            [
             0.7777777777777778,
             "#fb9f3a"
            ],
            [
             0.8888888888888888,
             "#fdca26"
            ],
            [
             1,
             "#f0f921"
            ]
           ],
           "sequentialminus": [
            [
             0,
             "#0d0887"
            ],
            [
             0.1111111111111111,
             "#46039f"
            ],
            [
             0.2222222222222222,
             "#7201a8"
            ],
            [
             0.3333333333333333,
             "#9c179e"
            ],
            [
             0.4444444444444444,
             "#bd3786"
            ],
            [
             0.5555555555555556,
             "#d8576b"
            ],
            [
             0.6666666666666666,
             "#ed7953"
            ],
            [
             0.7777777777777778,
             "#fb9f3a"
            ],
            [
             0.8888888888888888,
             "#fdca26"
            ],
            [
             1,
             "#f0f921"
            ]
           ]
          },
          "colorway": [
           "#636efa",
           "#EF553B",
           "#00cc96",
           "#ab63fa",
           "#FFA15A",
           "#19d3f3",
           "#FF6692",
           "#B6E880",
           "#FF97FF",
           "#FECB52"
          ],
          "font": {
           "color": "#2a3f5f"
          },
          "geo": {
           "bgcolor": "white",
           "lakecolor": "white",
           "landcolor": "#E5ECF6",
           "showlakes": true,
           "showland": true,
           "subunitcolor": "white"
          },
          "hoverlabel": {
           "align": "left"
          },
          "hovermode": "closest",
          "mapbox": {
           "style": "light"
          },
          "paper_bgcolor": "white",
          "plot_bgcolor": "#E5ECF6",
          "polar": {
           "angularaxis": {
            "gridcolor": "white",
            "linecolor": "white",
            "ticks": ""
           },
           "bgcolor": "#E5ECF6",
           "radialaxis": {
            "gridcolor": "white",
            "linecolor": "white",
            "ticks": ""
           }
          },
          "scene": {
           "xaxis": {
            "backgroundcolor": "#E5ECF6",
            "gridcolor": "white",
            "gridwidth": 2,
            "linecolor": "white",
            "showbackground": true,
            "ticks": "",
            "zerolinecolor": "white"
           },
           "yaxis": {
            "backgroundcolor": "#E5ECF6",
            "gridcolor": "white",
            "gridwidth": 2,
            "linecolor": "white",
            "showbackground": true,
            "ticks": "",
            "zerolinecolor": "white"
           },
           "zaxis": {
            "backgroundcolor": "#E5ECF6",
            "gridcolor": "white",
            "gridwidth": 2,
            "linecolor": "white",
            "showbackground": true,
            "ticks": "",
            "zerolinecolor": "white"
           }
          },
          "shapedefaults": {
           "line": {
            "color": "#2a3f5f"
           }
          },
          "ternary": {
           "aaxis": {
            "gridcolor": "white",
            "linecolor": "white",
            "ticks": ""
           },
           "baxis": {
            "gridcolor": "white",
            "linecolor": "white",
            "ticks": ""
           },
           "bgcolor": "#E5ECF6",
           "caxis": {
            "gridcolor": "white",
            "linecolor": "white",
            "ticks": ""
           }
          },
          "title": {
           "x": 0.05
          },
          "xaxis": {
           "automargin": true,
           "gridcolor": "white",
           "linecolor": "white",
           "ticks": "",
           "title": {
            "standoff": 15
           },
           "zerolinecolor": "white",
           "zerolinewidth": 2
          },
          "yaxis": {
           "automargin": true,
           "gridcolor": "white",
           "linecolor": "white",
           "ticks": "",
           "title": {
            "standoff": 15
           },
           "zerolinecolor": "white",
           "zerolinewidth": 2
          }
         }
        },
        "title": {
         "text": "Mapa de calor de correlación entre contaminantes"
        },
        "width": 700,
        "xaxis": {
         "nticks": 36
        }
       }
      }
     },
     "metadata": {},
     "output_type": "display_data"
    }
   ],
   "source": [
    "from sklearn.impute import KNNImputer\n",
    "\n",
    "# Crear el imputador con 3 vecinos\n",
    "imputer = KNNImputer(n_neighbors = 3)\n",
    "\n",
    "# Aplicarlo al DataFrame (solo reemplaza NaN)\n",
    "df_corr.iloc[:, :] = imputer.fit_transform(df_corr)\n",
    "\n",
    "# Evaluamos si existe alguna correlacion entre nuestros contaminantes\n",
    "\n",
    "import plotly.graph_objects as go\n",
    "\n",
    "contaminantes = [\"CO\", \"NO\", \"NO2\", \"O3\", \"PM10\", \"PM2.5\", \"PST\", \"SO2\"]\n",
    "corr_matrix = df_corr[contaminantes].corr(method=\"pearson\")\n",
    "\n",
    "heatmap = go.Figure(data=go.Heatmap(z=corr_matrix.values, x=corr_matrix.columns, y=corr_matrix.index, colorscale=\"RdBu\", \n",
    "                                    zmin=-1, zmax=1, colorbar=dict(title=\"Correlación\")))\n",
    "\n",
    "heatmap.update_layout(title=\"Mapa de calor de correlación entre contaminantes\", xaxis_nticks=36, height=700, width=700)\n",
    "\n",
    "heatmap.show()"
   ]
  },
  {
   "cell_type": "markdown",
   "id": "6b06ad30",
   "metadata": {},
   "source": [
    "El mapa de calor revela correlaciones positivas notables entre varios contaminantes atmosféricos, lo que sugiere posibles fuentes comunes de emisión o relaciones químicas entre ellos. Destacan especialmente:\n",
    "\n",
    "- **NO** y **NO2** con una correlación fuerte de 0.78, reflejando su vínculo directo en procesos de oxidación.  \n",
    "- **CO** y **NO2** con 0.61, indicando probablemente una fuente común asociada a la combustión vehicular o industrial.  \n",
    "- **PM2.5** y **SO2** también con 0.67, lo cual es coherente con la formación secundaria de partículas finas a partir de gases precursores como el dióxido de azufre.  \n",
    "- **O3** y **PST** con 0.60, una relación menos esperada que podría estar influenciada por condiciones atmosféricas compartidas o reacciones fotoquímicas indirectas."
   ]
  },
  {
   "cell_type": "markdown",
   "id": "013d1f03",
   "metadata": {},
   "source": [
    "### ¿Hay correlación entre contaminantes y variables meteorológicas? "
   ]
  },
  {
   "cell_type": "code",
   "execution_count": 16,
   "id": "1f2a7f95",
   "metadata": {},
   "outputs": [
    {
     "data": {
      "application/vnd.plotly.v1+json": {
       "config": {
        "plotlyServerURL": "https://plot.ly"
       },
       "data": [
        {
         "colorbar": {
          "title": {
           "text": "Correlación"
          }
         },
         "colorscale": [
          [
           0,
           "rgb(103,0,31)"
          ],
          [
           0.1,
           "rgb(178,24,43)"
          ],
          [
           0.2,
           "rgb(214,96,77)"
          ],
          [
           0.3,
           "rgb(244,165,130)"
          ],
          [
           0.4,
           "rgb(253,219,199)"
          ],
          [
           0.5,
           "rgb(247,247,247)"
          ],
          [
           0.6,
           "rgb(209,229,240)"
          ],
          [
           0.7,
           "rgb(146,197,222)"
          ],
          [
           0.8,
           "rgb(67,147,195)"
          ],
          [
           0.9,
           "rgb(33,102,172)"
          ],
          [
           1,
           "rgb(5,48,97)"
          ]
         ],
         "type": "heatmap",
         "x": [
          "CO",
          "DViento",
          "HAire",
          "HAire10",
          "HAire2",
          "NO",
          "NO2",
          "O3",
          "P",
          "PLiquida",
          "PM10",
          "PM2.5",
          "PST",
          "RGlobal",
          "SO2",
          "TAire10",
          "TAire2",
          "VViento",
          "RUVb"
         ],
         "y": [
          "CO",
          "DViento",
          "HAire",
          "HAire10",
          "HAire2",
          "NO",
          "NO2",
          "O3",
          "P",
          "PLiquida",
          "PM10",
          "PM2.5",
          "PST",
          "RGlobal",
          "SO2",
          "TAire10",
          "TAire2",
          "VViento",
          "RUVb"
         ],
         "z": {
          "bdata": "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",
          "dtype": "f8",
          "shape": "19, 19"
         },
         "zmax": 1,
         "zmin": -1
        }
       ],
       "layout": {
        "height": 700,
        "template": {
         "data": {
          "bar": [
           {
            "error_x": {
             "color": "#2a3f5f"
            },
            "error_y": {
             "color": "#2a3f5f"
            },
            "marker": {
             "line": {
              "color": "#E5ECF6",
              "width": 0.5
             },
             "pattern": {
              "fillmode": "overlay",
              "size": 10,
              "solidity": 0.2
             }
            },
            "type": "bar"
           }
          ],
          "barpolar": [
           {
            "marker": {
             "line": {
              "color": "#E5ECF6",
              "width": 0.5
             },
             "pattern": {
              "fillmode": "overlay",
              "size": 10,
              "solidity": 0.2
             }
            },
            "type": "barpolar"
           }
          ],
          "carpet": [
           {
            "aaxis": {
             "endlinecolor": "#2a3f5f",
             "gridcolor": "white",
             "linecolor": "white",
             "minorgridcolor": "white",
             "startlinecolor": "#2a3f5f"
            },
            "baxis": {
             "endlinecolor": "#2a3f5f",
             "gridcolor": "white",
             "linecolor": "white",
             "minorgridcolor": "white",
             "startlinecolor": "#2a3f5f"
            },
            "type": "carpet"
           }
          ],
          "choropleth": [
           {
            "colorbar": {
             "outlinewidth": 0,
             "ticks": ""
            },
            "type": "choropleth"
           }
          ],
          "contour": [
           {
            "colorbar": {
             "outlinewidth": 0,
             "ticks": ""
            },
            "colorscale": [
             [
              0,
              "#0d0887"
             ],
             [
              0.1111111111111111,
              "#46039f"
             ],
             [
              0.2222222222222222,
              "#7201a8"
             ],
             [
              0.3333333333333333,
              "#9c179e"
             ],
             [
              0.4444444444444444,
              "#bd3786"
             ],
             [
              0.5555555555555556,
              "#d8576b"
             ],
             [
              0.6666666666666666,
              "#ed7953"
             ],
             [
              0.7777777777777778,
              "#fb9f3a"
             ],
             [
              0.8888888888888888,
              "#fdca26"
             ],
             [
              1,
              "#f0f921"
             ]
            ],
            "type": "contour"
           }
          ],
          "contourcarpet": [
           {
            "colorbar": {
             "outlinewidth": 0,
             "ticks": ""
            },
            "type": "contourcarpet"
           }
          ],
          "heatmap": [
           {
            "colorbar": {
             "outlinewidth": 0,
             "ticks": ""
            },
            "colorscale": [
             [
              0,
              "#0d0887"
             ],
             [
              0.1111111111111111,
              "#46039f"
             ],
             [
              0.2222222222222222,
              "#7201a8"
             ],
             [
              0.3333333333333333,
              "#9c179e"
             ],
             [
              0.4444444444444444,
              "#bd3786"
             ],
             [
              0.5555555555555556,
              "#d8576b"
             ],
             [
              0.6666666666666666,
              "#ed7953"
             ],
             [
              0.7777777777777778,
              "#fb9f3a"
             ],
             [
              0.8888888888888888,
              "#fdca26"
             ],
             [
              1,
              "#f0f921"
             ]
            ],
            "type": "heatmap"
           }
          ],
          "histogram": [
           {
            "marker": {
             "pattern": {
              "fillmode": "overlay",
              "size": 10,
              "solidity": 0.2
             }
            },
            "type": "histogram"
           }
          ],
          "histogram2d": [
           {
            "colorbar": {
             "outlinewidth": 0,
             "ticks": ""
            },
            "colorscale": [
             [
              0,
              "#0d0887"
             ],
             [
              0.1111111111111111,
              "#46039f"
             ],
             [
              0.2222222222222222,
              "#7201a8"
             ],
             [
              0.3333333333333333,
              "#9c179e"
             ],
             [
              0.4444444444444444,
              "#bd3786"
             ],
             [
              0.5555555555555556,
              "#d8576b"
             ],
             [
              0.6666666666666666,
              "#ed7953"
             ],
             [
              0.7777777777777778,
              "#fb9f3a"
             ],
             [
              0.8888888888888888,
              "#fdca26"
             ],
             [
              1,
              "#f0f921"
             ]
            ],
            "type": "histogram2d"
           }
          ],
          "histogram2dcontour": [
           {
            "colorbar": {
             "outlinewidth": 0,
             "ticks": ""
            },
            "colorscale": [
             [
              0,
              "#0d0887"
             ],
             [
              0.1111111111111111,
              "#46039f"
             ],
             [
              0.2222222222222222,
              "#7201a8"
             ],
             [
              0.3333333333333333,
              "#9c179e"
             ],
             [
              0.4444444444444444,
              "#bd3786"
             ],
             [
              0.5555555555555556,
              "#d8576b"
             ],
             [
              0.6666666666666666,
              "#ed7953"
             ],
             [
              0.7777777777777778,
              "#fb9f3a"
             ],
             [
              0.8888888888888888,
              "#fdca26"
             ],
             [
              1,
              "#f0f921"
             ]
            ],
            "type": "histogram2dcontour"
           }
          ],
          "mesh3d": [
           {
            "colorbar": {
             "outlinewidth": 0,
             "ticks": ""
            },
            "type": "mesh3d"
           }
          ],
          "parcoords": [
           {
            "line": {
             "colorbar": {
              "outlinewidth": 0,
              "ticks": ""
             }
            },
            "type": "parcoords"
           }
          ],
          "pie": [
           {
            "automargin": true,
            "type": "pie"
           }
          ],
          "scatter": [
           {
            "fillpattern": {
             "fillmode": "overlay",
             "size": 10,
             "solidity": 0.2
            },
            "type": "scatter"
           }
          ],
          "scatter3d": [
           {
            "line": {
             "colorbar": {
              "outlinewidth": 0,
              "ticks": ""
             }
            },
            "marker": {
             "colorbar": {
              "outlinewidth": 0,
              "ticks": ""
             }
            },
            "type": "scatter3d"
           }
          ],
          "scattercarpet": [
           {
            "marker": {
             "colorbar": {
              "outlinewidth": 0,
              "ticks": ""
             }
            },
            "type": "scattercarpet"
           }
          ],
          "scattergeo": [
           {
            "marker": {
             "colorbar": {
              "outlinewidth": 0,
              "ticks": ""
             }
            },
            "type": "scattergeo"
           }
          ],
          "scattergl": [
           {
            "marker": {
             "colorbar": {
              "outlinewidth": 0,
              "ticks": ""
             }
            },
            "type": "scattergl"
           }
          ],
          "scattermap": [
           {
            "marker": {
             "colorbar": {
              "outlinewidth": 0,
              "ticks": ""
             }
            },
            "type": "scattermap"
           }
          ],
          "scattermapbox": [
           {
            "marker": {
             "colorbar": {
              "outlinewidth": 0,
              "ticks": ""
             }
            },
            "type": "scattermapbox"
           }
          ],
          "scatterpolar": [
           {
            "marker": {
             "colorbar": {
              "outlinewidth": 0,
              "ticks": ""
             }
            },
            "type": "scatterpolar"
           }
          ],
          "scatterpolargl": [
           {
            "marker": {
             "colorbar": {
              "outlinewidth": 0,
              "ticks": ""
             }
            },
            "type": "scatterpolargl"
           }
          ],
          "scatterternary": [
           {
            "marker": {
             "colorbar": {
              "outlinewidth": 0,
              "ticks": ""
             }
            },
            "type": "scatterternary"
           }
          ],
          "surface": [
           {
            "colorbar": {
             "outlinewidth": 0,
             "ticks": ""
            },
            "colorscale": [
             [
              0,
              "#0d0887"
             ],
             [
              0.1111111111111111,
              "#46039f"
             ],
             [
              0.2222222222222222,
              "#7201a8"
             ],
             [
              0.3333333333333333,
              "#9c179e"
             ],
             [
              0.4444444444444444,
              "#bd3786"
             ],
             [
              0.5555555555555556,
              "#d8576b"
             ],
             [
              0.6666666666666666,
              "#ed7953"
             ],
             [
              0.7777777777777778,
              "#fb9f3a"
             ],
             [
              0.8888888888888888,
              "#fdca26"
             ],
             [
              1,
              "#f0f921"
             ]
            ],
            "type": "surface"
           }
          ],
          "table": [
           {
            "cells": {
             "fill": {
              "color": "#EBF0F8"
             },
             "line": {
              "color": "white"
             }
            },
            "header": {
             "fill": {
              "color": "#C8D4E3"
             },
             "line": {
              "color": "white"
             }
            },
            "type": "table"
           }
          ]
         },
         "layout": {
          "annotationdefaults": {
           "arrowcolor": "#2a3f5f",
           "arrowhead": 0,
           "arrowwidth": 1
          },
          "autotypenumbers": "strict",
          "coloraxis": {
           "colorbar": {
            "outlinewidth": 0,
            "ticks": ""
           }
          },
          "colorscale": {
           "diverging": [
            [
             0,
             "#8e0152"
            ],
            [
             0.1,
             "#c51b7d"
            ],
            [
             0.2,
             "#de77ae"
            ],
            [
             0.3,
             "#f1b6da"
            ],
            [
             0.4,
             "#fde0ef"
            ],
            [
             0.5,
             "#f7f7f7"
            ],
            [
             0.6,
             "#e6f5d0"
            ],
            [
             0.7,
             "#b8e186"
            ],
            [
             0.8,
             "#7fbc41"
            ],
            [
             0.9,
             "#4d9221"
            ],
            [
             1,
             "#276419"
            ]
           ],
           "sequential": [
            [
             0,
             "#0d0887"
            ],
            [
             0.1111111111111111,
             "#46039f"
            ],
            [
             0.2222222222222222,
             "#7201a8"
            ],
            [
             0.3333333333333333,
             "#9c179e"
            ],
            [
             0.4444444444444444,
             "#bd3786"
            ],
            [
             0.5555555555555556,
             "#d8576b"
            ],
            [
             0.6666666666666666,
             "#ed7953"
            ],
            [
             0.7777777777777778,
             "#fb9f3a"
            ],
            [
             0.8888888888888888,
             "#fdca26"
            ],
            [
             1,
             "#f0f921"
            ]
           ],
           "sequentialminus": [
            [
             0,
             "#0d0887"
            ],
            [
             0.1111111111111111,
             "#46039f"
            ],
            [
             0.2222222222222222,
             "#7201a8"
            ],
            [
             0.3333333333333333,
             "#9c179e"
            ],
            [
             0.4444444444444444,
             "#bd3786"
            ],
            [
             0.5555555555555556,
             "#d8576b"
            ],
            [
             0.6666666666666666,
             "#ed7953"
            ],
            [
             0.7777777777777778,
             "#fb9f3a"
            ],
            [
             0.8888888888888888,
             "#fdca26"
            ],
            [
             1,
             "#f0f921"
            ]
           ]
          },
          "colorway": [
           "#636efa",
           "#EF553B",
           "#00cc96",
           "#ab63fa",
           "#FFA15A",
           "#19d3f3",
           "#FF6692",
           "#B6E880",
           "#FF97FF",
           "#FECB52"
          ],
          "font": {
           "color": "#2a3f5f"
          },
          "geo": {
           "bgcolor": "white",
           "lakecolor": "white",
           "landcolor": "#E5ECF6",
           "showlakes": true,
           "showland": true,
           "subunitcolor": "white"
          },
          "hoverlabel": {
           "align": "left"
          },
          "hovermode": "closest",
          "mapbox": {
           "style": "light"
          },
          "paper_bgcolor": "white",
          "plot_bgcolor": "#E5ECF6",
          "polar": {
           "angularaxis": {
            "gridcolor": "white",
            "linecolor": "white",
            "ticks": ""
           },
           "bgcolor": "#E5ECF6",
           "radialaxis": {
            "gridcolor": "white",
            "linecolor": "white",
            "ticks": ""
           }
          },
          "scene": {
           "xaxis": {
            "backgroundcolor": "#E5ECF6",
            "gridcolor": "white",
            "gridwidth": 2,
            "linecolor": "white",
            "showbackground": true,
            "ticks": "",
            "zerolinecolor": "white"
           },
           "yaxis": {
            "backgroundcolor": "#E5ECF6",
            "gridcolor": "white",
            "gridwidth": 2,
            "linecolor": "white",
            "showbackground": true,
            "ticks": "",
            "zerolinecolor": "white"
           },
           "zaxis": {
            "backgroundcolor": "#E5ECF6",
            "gridcolor": "white",
            "gridwidth": 2,
            "linecolor": "white",
            "showbackground": true,
            "ticks": "",
            "zerolinecolor": "white"
           }
          },
          "shapedefaults": {
           "line": {
            "color": "#2a3f5f"
           }
          },
          "ternary": {
           "aaxis": {
            "gridcolor": "white",
            "linecolor": "white",
            "ticks": ""
           },
           "baxis": {
            "gridcolor": "white",
            "linecolor": "white",
            "ticks": ""
           },
           "bgcolor": "#E5ECF6",
           "caxis": {
            "gridcolor": "white",
            "linecolor": "white",
            "ticks": ""
           }
          },
          "title": {
           "x": 0.05
          },
          "xaxis": {
           "automargin": true,
           "gridcolor": "white",
           "linecolor": "white",
           "ticks": "",
           "title": {
            "standoff": 15
           },
           "zerolinecolor": "white",
           "zerolinewidth": 2
          },
          "yaxis": {
           "automargin": true,
           "gridcolor": "white",
           "linecolor": "white",
           "ticks": "",
           "title": {
            "standoff": 15
           },
           "zerolinecolor": "white",
           "zerolinewidth": 2
          }
         }
        },
        "title": {
         "text": "Mapa de calor de correlación entre contaminantes"
        },
        "width": 700,
        "xaxis": {
         "nticks": 36
        }
       }
      }
     },
     "metadata": {},
     "output_type": "display_data"
    }
   ],
   "source": [
    "# Eliminamos las columnas a no usar de nuestros datos ajustados anteriormente\n",
    "df_corr1 = df_corr_dep.drop(['Nombre del Departamento'], axis=1)\n",
    "\n",
    "# Imputamos los datos nulos con KNN\n",
    "df_corr1.iloc[:, :] = imputer.fit_transform(df_corr1)\n",
    "\n",
    "# Definimos nuestras variables metereologicas y contaminantes\n",
    "contaminantes1 = ['CO', 'DViento', 'HAire', 'HAire10', 'HAire2', 'NO', 'NO2', 'O3', 'P', 'PLiquida', 'PM10' , 'PM2.5', 'PST', \n",
    "                  'RGlobal', 'SO2', 'TAire', 'TAire10', 'TAire2', 'VViento', 'RUVb']\n",
    "\n",
    "# Hallamos la correlacion basada en el metodo pearson\n",
    "corr_matrix1 = df_corr1[contaminantes1].corr(method=\"pearson\")\n",
    "\n",
    "# Reemplazamos valores nulos por 0\n",
    "corr_matrix1 = corr_matrix1.dropna(axis=0, how='all').dropna(axis=1, how='all')\n",
    "\n",
    "# Grficamos el mapa de calor de acuerdo a las correlaciones obtenidas\n",
    "heatmap1 = go.Figure(data=go.Heatmap(z=corr_matrix1.values, x=corr_matrix1.columns, y=corr_matrix1.index, colorscale=\"RdBu\", \n",
    "                                    zmin=-1, zmax=1, colorbar=dict(title=\"Correlación\")))\n",
    "heatmap1.update_layout(title=\"Mapa de calor de correlación entre contaminantes\", xaxis_nticks=36, height=700, width=700)\n",
    "heatmap1.show()"
   ]
  },
  {
   "cell_type": "markdown",
   "id": "7f1267bb",
   "metadata": {},
   "source": [
    "Al analizar la matriz de correlación entre contaminantes atmosféricos y variables meteorológicas, se identificaron **pocas relaciones directas** entre ambos grupos. De manera destacada:  \n",
    "\n",
    "- **Presión atmosférica (P)** presentó correlaciones **negativas fuertes** con:\n",
    "\t- **Monóxido de carbono (CO)**: -0.81\n",
    "\t- **Dióxido de nitrógeno (NO2)**: -0.87  \n",
    "\n",
    "Esto sugiere que menores niveles de presión podrían estar asociados a mayores concentraciones de estos contaminantes, posiblemente por condiciones de estabilidad atmosférica que reducen la dispersión vertical de los gases.  \n",
    "\n",
    "En contraste, las demás correlaciones significativas se observaron entre variables **exclusivamente meteorológicas**, como:  \n",
    "- **Precipitación líquida (PLiquida) y humedad a 2 m (HAire2)**: 0.96\n",
    "- **Velocidad del viento (VViento) y humedad a 10 m (HAire10)**: 0.78\n",
    "- **Presión (P) y humedad a 2 m (HAire2)**: 0.75\n",
    "- **Presión (P) y dirección del viento (DViento)**: -0.70\n",
    "- **Radiación ultravioleta (RUVb) y temperatura del aire a 10 m (TAire10)**: -0.72  \n",
    "\n",
    "Estas relaciones evidencian la coherencia interna de las variables meteorológicas entre sí, reflejando sus dinámicas físicas naturales, pero no necesariamente una influencia directa sobre las concentraciones de contaminantes en este conjunto de datos.\n"
   ]
  },
  {
   "cell_type": "markdown",
   "id": "a95d4e7c",
   "metadata": {},
   "source": [
    "### Conclusiones\n",
    "\n",
    "Este proyecto realizó un análisis detallado de la calidad del aire en Colombia entre los años 2011 y 2022, partiendo de una base de datos con 13,866 observaciones y 18 variables, correspondientes a registros ambientales de 33 departamentos. Como parte de la depuración, Bogotá D.C. fue reclasificada dentro del departamento de Cundinamarca, y se filtraron únicamente aquellos departamentos con información completa a lo largo del periodo analizado. De este modo, se consolidó un conjunto de datos representativo que abarca 13 departamentos.  \n",
    "\n",
    "El análisis evolutivo de los contaminantes mostró que, salvo por una caída abrupta del PST en 2018 y su posterior desaparición en 2019 —que podría responder a cambios metodológicos o administrativos—, la mayoría de los contaminantes regulados por la Ley 2254 de 2017 (PM10, PM2.5, NO₂, SO₂ y PST) mantuvieron una tendencia estable en los últimos años. Entre ellos, destacó el año 2016, cuando se evidenciaron picos de concentración en PM10, PM2.5, SO₂ y PST, aunque en departamentos distintos, lo que sugiere la existencia de causas locales específicas detrás de cada episodio de contaminación. Por su parte, el NO₂ alcanzó su punto más alto en 2011 y se mantuvo relativamente estable en los años posteriores.  \n",
    "\n",
    "El cumplimiento de la regulación mostró que, aunque la mayoría de los registros se mantuvieron por debajo de los valores límites establecidos, el **PM2.5 superó el umbral legal de 25 μg/m³ en 2016**, lo que indica la ocurrencia de un evento crítico de contaminación. No obstante, al revisar los estadísticos de tendencia central, se encontró que la mediana era menos sensible a eventos extremos, permitiendo una caracterización más representativa del comportamiento típico de los contaminantes. A nivel departamental, ese mismo año se presentaron eventos de concentración elevados por región: La Guajira, Boyacá y Valle del Cauca destacaron por altos niveles de PM10; Cesar y Antioquia por concentraciones elevadas de PM2.5; Cundinamarca por una anomalía en el PST; y Boyacá por registrar el valor más alto de SO₂.  \n",
    "\n",
    "Cuando se exploró la relación entre actividad industrial y niveles de NO₂ y SO₂, los resultados fueron contraintuitivos: los valores más altos de SO₂ se observaron en municipios como Paipa, Nemocón y Cajicá, y los de NO₂ en Medellín, Sabaneta y Cota. Esto sugiere que factores como la congestión vehicular, la quema de carbón en termoeléctricas y la topografía urbana pueden tener un papel tan relevante —o incluso mayor— que la actividad industrial tradicional.  \n",
    "\n",
    "Un hallazgo particularmente interesante fue que, si bien el año 2016 presentó los picos más altos de concentración promedio, el porcentaje de reportes que superaron los límites establecidos fue más alto en 2020 (5.33 %). Este año coincide con el periodo de la pandemia por COVID-19, cuando se esperaba una reducción generalizada de emisiones. Esto indica que, aunque los promedios bajaron, la frecuencia relativa de eventos de alta contaminación fue mayor, probablemente asociada a condiciones meteorológicas atípicas o una disminución en la dispersión atmosférica.  \n",
    "\n",
    "En el análisis de correlaciones entre contaminantes, se identificaron asociaciones relevantes desde el punto de vista químico y de fuente de emisión: NO–NO₂ (0.78), CO–NO₂ (0.61), PM2.5–SO₂ (0.67) y una relación menos esperada entre O₃–PST (0.60). Estas relaciones sugieren dinámicas de conversión atmosférica y coexistencia de contaminantes primarios con secundarios, además de posibles efectos compartidos de condiciones meteorológicas.  \n",
    "\n",
    "Finalmente, al relacionar los contaminantes con variables meteorológicas, se hallaron pocas correlaciones directas fuertes. Las más destacadas fueron las correlaciones negativas entre **presión atmosférica y CO (-0.81)**, y **presión atmosférica y NO₂ (-0.87)**, lo que sugiere que condiciones de baja presión —asociadas a una atmósfera más estable y con menor capacidad de dispersión— podrían favorecer la acumulación de estos gases. El resto de las correlaciones significativas se dio principalmente entre variables meteorológicas entre sí, lo que evidencia la coherencia interna de las mediciones ambientales.  \n",
    "\n",
    "En conjunto, los hallazgos de este proyecto permiten entender mejor la evolución y comportamiento conjunto de los contaminantes del aire en Colombia, identificando años críticos, regiones prioritarias y posibles dinámicas subyacentes. Este trabajo puede servir como insumo para la toma de decisiones, ajustes en la política ambiental y futuras investigaciones que incorporen más dimensiones espaciales y de salud pública."
   ]
  }
 ],
 "metadata": {
  "kernelspec": {
   "display_name": "Python 3",
   "language": "python",
   "name": "python3"
  },
  "language_info": {
   "codemirror_mode": {
    "name": "ipython",
    "version": 3
   },
   "file_extension": ".py",
   "mimetype": "text/x-python",
   "name": "python",
   "nbconvert_exporter": "python",
   "pygments_lexer": "ipython3",
   "version": "3.13.3"
  }
 },
 "nbformat": 4,
 "nbformat_minor": 5
}
